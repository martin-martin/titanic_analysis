{
 "cells": [
  {
   "cell_type": "markdown",
   "metadata": {},
   "source": [
    "# Did _Jack Dawson_ die in vain? - Analysing the Titanic dataset for survival\n",
    "\n",
    "As my question for the dataset, I've chosen a little sidestep of the classic investigation, which is trying to find which variables are likely to predict survival for passengers on the Titanic. Here we go:\n",
    "\n",
    "---\n",
    "\n",
    "So, I think many of us watched the movie. :) I did, but it has been a very long time ago. My memory of the actual events portrayed is faded, and I remember being a bit interested, but also a bit dismissive (because probably ashamed) of watching the love story on the big screen. Ah, the teenage years... :)\n",
    "\n",
    "But one thing that I remember, and that I believe many people were thinking, was that the death of Leonardo Di'Caprio's character _Jack_ seemed a bit unnecessary.\n",
    "\n",
    "But was it really?\n",
    "Was it indeed an unnecessary death, or did the end of the movie reflect the actual deaths and survivals on (and off) board of the Titanic well? What does the historical data say?\n",
    "\n",
    "**Question: For the \"Titanic\" movie to be historically representative, was the ending appropriate?**\n",
    "\n",
    "Or more general: What attributes did passengers have, that were likely to survive the sinking of the ship?"
   ]
  },
  {
   "cell_type": "markdown",
   "metadata": {},
   "source": [
    "---\n",
    "\n",
    "For this analysis I'll be using the titanic dataset as provided through Udacity in the Data Analyst ND course materials. https://www.udacity.com/course/viewer#!/c-nd002/l-3176718735/m-5420148578, which is identical to the one provided on this kaggle webpage: https://www.kaggle.com/c/titanic/data\n",
    "\n",
    "Further I'll be brushing up my memories of the movie online from its dedicated wikipedia page: https://en.wikipedia.org/wiki/Titanic_(1997_film) and even it's own whole wiki: http://jamescameronstitanic.wikia.com/wiki/James_Cameron%27s_Titanic_Wiki\n",
    "\n",
    "And some more general verbose facts from here: http://www.encyclopedia-titanica.org/\n",
    "\n",
    "---"
   ]
  },
  {
   "cell_type": "markdown",
   "metadata": {},
   "source": [
    "## 1) Taking a look at the data"
   ]
  },
  {
   "cell_type": "code",
   "execution_count": 56,
   "metadata": {
    "collapsed": false
   },
   "outputs": [
    {
     "data": {
      "text/html": [
       "<div style=\"max-height:1000px;max-width:1500px;overflow:auto;\">\n",
       "<table border=\"1\" class=\"dataframe\">\n",
       "  <thead>\n",
       "    <tr style=\"text-align: right;\">\n",
       "      <th></th>\n",
       "      <th>PassengerId</th>\n",
       "      <th>Survived</th>\n",
       "      <th>Pclass</th>\n",
       "      <th>Name</th>\n",
       "      <th>Sex</th>\n",
       "      <th>Age</th>\n",
       "      <th>SibSp</th>\n",
       "      <th>Parch</th>\n",
       "      <th>Ticket</th>\n",
       "      <th>Fare</th>\n",
       "      <th>Cabin</th>\n",
       "      <th>Embarked</th>\n",
       "    </tr>\n",
       "  </thead>\n",
       "  <tbody>\n",
       "    <tr>\n",
       "      <th>0</th>\n",
       "      <td> 1</td>\n",
       "      <td> 0</td>\n",
       "      <td> 3</td>\n",
       "      <td>                           Braund, Mr. Owen Harris</td>\n",
       "      <td>   male</td>\n",
       "      <td> 22</td>\n",
       "      <td> 1</td>\n",
       "      <td> 0</td>\n",
       "      <td>        A/5 21171</td>\n",
       "      <td>  7.2500</td>\n",
       "      <td>  NaN</td>\n",
       "      <td> S</td>\n",
       "    </tr>\n",
       "    <tr>\n",
       "      <th>1</th>\n",
       "      <td> 2</td>\n",
       "      <td> 1</td>\n",
       "      <td> 1</td>\n",
       "      <td> Cumings, Mrs. John Bradley (Florence Briggs Th...</td>\n",
       "      <td> female</td>\n",
       "      <td> 38</td>\n",
       "      <td> 1</td>\n",
       "      <td> 0</td>\n",
       "      <td>         PC 17599</td>\n",
       "      <td> 71.2833</td>\n",
       "      <td>  C85</td>\n",
       "      <td> C</td>\n",
       "    </tr>\n",
       "    <tr>\n",
       "      <th>2</th>\n",
       "      <td> 3</td>\n",
       "      <td> 1</td>\n",
       "      <td> 3</td>\n",
       "      <td>                            Heikkinen, Miss. Laina</td>\n",
       "      <td> female</td>\n",
       "      <td> 26</td>\n",
       "      <td> 0</td>\n",
       "      <td> 0</td>\n",
       "      <td> STON/O2. 3101282</td>\n",
       "      <td>  7.9250</td>\n",
       "      <td>  NaN</td>\n",
       "      <td> S</td>\n",
       "    </tr>\n",
       "    <tr>\n",
       "      <th>3</th>\n",
       "      <td> 4</td>\n",
       "      <td> 1</td>\n",
       "      <td> 1</td>\n",
       "      <td>      Futrelle, Mrs. Jacques Heath (Lily May Peel)</td>\n",
       "      <td> female</td>\n",
       "      <td> 35</td>\n",
       "      <td> 1</td>\n",
       "      <td> 0</td>\n",
       "      <td>           113803</td>\n",
       "      <td> 53.1000</td>\n",
       "      <td> C123</td>\n",
       "      <td> S</td>\n",
       "    </tr>\n",
       "    <tr>\n",
       "      <th>4</th>\n",
       "      <td> 5</td>\n",
       "      <td> 0</td>\n",
       "      <td> 3</td>\n",
       "      <td>                          Allen, Mr. William Henry</td>\n",
       "      <td>   male</td>\n",
       "      <td> 35</td>\n",
       "      <td> 0</td>\n",
       "      <td> 0</td>\n",
       "      <td>           373450</td>\n",
       "      <td>  8.0500</td>\n",
       "      <td>  NaN</td>\n",
       "      <td> S</td>\n",
       "    </tr>\n",
       "  </tbody>\n",
       "</table>\n",
       "</div>"
      ],
      "text/plain": [
       "   PassengerId  Survived  Pclass  \\\n",
       "0            1         0       3   \n",
       "1            2         1       1   \n",
       "2            3         1       3   \n",
       "3            4         1       1   \n",
       "4            5         0       3   \n",
       "\n",
       "                                                Name     Sex  Age  SibSp  \\\n",
       "0                            Braund, Mr. Owen Harris    male   22      1   \n",
       "1  Cumings, Mrs. John Bradley (Florence Briggs Th...  female   38      1   \n",
       "2                             Heikkinen, Miss. Laina  female   26      0   \n",
       "3       Futrelle, Mrs. Jacques Heath (Lily May Peel)  female   35      1   \n",
       "4                           Allen, Mr. William Henry    male   35      0   \n",
       "\n",
       "   Parch            Ticket     Fare Cabin Embarked  \n",
       "0      0         A/5 21171   7.2500   NaN        S  \n",
       "1      0          PC 17599  71.2833   C85        C  \n",
       "2      0  STON/O2. 3101282   7.9250   NaN        S  \n",
       "3      0            113803  53.1000  C123        S  \n",
       "4      0            373450   8.0500   NaN        S  "
      ]
     },
     "execution_count": 56,
     "metadata": {},
     "output_type": "execute_result"
    }
   ],
   "source": [
    "import pandas as pd\n",
    "\n",
    "# reading the csv data into a pandas dataframe\n",
    "titanic_data_all = pd.read_csv('titanic_data.csv')\n",
    "\n",
    "titanic_data_all.head()"
   ]
  },
  {
   "cell_type": "markdown",
   "metadata": {},
   "source": [
    "## 2) Reducing complexity and cleaning the data"
   ]
  },
  {
   "cell_type": "markdown",
   "metadata": {},
   "source": [
    "### Removing some data\n",
    "\n",
    "After looking at the printout of the DataFrame containing the available information about the passengers, I decided to remove four of the columns, that I thought would be unlikely to hold predictive value in regards to survival. Those were:\n",
    "\n",
    "- PassengerId\n",
    "- Name\n",
    "- Ticket\n",
    "- Embarked"
   ]
  },
  {
   "cell_type": "code",
   "execution_count": 57,
   "metadata": {
    "collapsed": false,
    "scrolled": true
   },
   "outputs": [],
   "source": [
    "titanic_data = titanic_data_all.drop(['PassengerId', 'Name', 'Ticket', 'Embarked'], 1)"
   ]
  },
  {
   "cell_type": "code",
   "execution_count": 58,
   "metadata": {
    "collapsed": false,
    "scrolled": true
   },
   "outputs": [
    {
     "name": "stdout",
     "output_type": "stream",
     "text": [
      "Survived      int64\n",
      "Pclass        int64\n",
      "Sex          object\n",
      "Age         float64\n",
      "SibSp         int64\n",
      "Parch         int64\n",
      "Fare        float64\n",
      "Cabin        object\n",
      "dtype: object\n"
     ]
    },
    {
     "data": {
      "text/html": [
       "<div style=\"max-height:1000px;max-width:1500px;overflow:auto;\">\n",
       "<table border=\"1\" class=\"dataframe\">\n",
       "  <thead>\n",
       "    <tr style=\"text-align: right;\">\n",
       "      <th></th>\n",
       "      <th>Survived</th>\n",
       "      <th>Pclass</th>\n",
       "      <th>Sex</th>\n",
       "      <th>Age</th>\n",
       "      <th>SibSp</th>\n",
       "      <th>Parch</th>\n",
       "      <th>Fare</th>\n",
       "      <th>Cabin</th>\n",
       "    </tr>\n",
       "  </thead>\n",
       "  <tbody>\n",
       "    <tr>\n",
       "      <th>0</th>\n",
       "      <td> 0</td>\n",
       "      <td> 3</td>\n",
       "      <td>   male</td>\n",
       "      <td> 22</td>\n",
       "      <td> 1</td>\n",
       "      <td> 0</td>\n",
       "      <td>  7.2500</td>\n",
       "      <td>  NaN</td>\n",
       "    </tr>\n",
       "    <tr>\n",
       "      <th>1</th>\n",
       "      <td> 1</td>\n",
       "      <td> 1</td>\n",
       "      <td> female</td>\n",
       "      <td> 38</td>\n",
       "      <td> 1</td>\n",
       "      <td> 0</td>\n",
       "      <td> 71.2833</td>\n",
       "      <td>  C85</td>\n",
       "    </tr>\n",
       "    <tr>\n",
       "      <th>2</th>\n",
       "      <td> 1</td>\n",
       "      <td> 3</td>\n",
       "      <td> female</td>\n",
       "      <td> 26</td>\n",
       "      <td> 0</td>\n",
       "      <td> 0</td>\n",
       "      <td>  7.9250</td>\n",
       "      <td>  NaN</td>\n",
       "    </tr>\n",
       "    <tr>\n",
       "      <th>3</th>\n",
       "      <td> 1</td>\n",
       "      <td> 1</td>\n",
       "      <td> female</td>\n",
       "      <td> 35</td>\n",
       "      <td> 1</td>\n",
       "      <td> 0</td>\n",
       "      <td> 53.1000</td>\n",
       "      <td> C123</td>\n",
       "    </tr>\n",
       "    <tr>\n",
       "      <th>4</th>\n",
       "      <td> 0</td>\n",
       "      <td> 3</td>\n",
       "      <td>   male</td>\n",
       "      <td> 35</td>\n",
       "      <td> 0</td>\n",
       "      <td> 0</td>\n",
       "      <td>  8.0500</td>\n",
       "      <td>  NaN</td>\n",
       "    </tr>\n",
       "  </tbody>\n",
       "</table>\n",
       "</div>"
      ],
      "text/plain": [
       "   Survived  Pclass     Sex  Age  SibSp  Parch     Fare Cabin\n",
       "0         0       3    male   22      1      0   7.2500   NaN\n",
       "1         1       1  female   38      1      0  71.2833   C85\n",
       "2         1       3  female   26      0      0   7.9250   NaN\n",
       "3         1       1  female   35      1      0  53.1000  C123\n",
       "4         0       3    male   35      0      0   8.0500   NaN"
      ]
     },
     "execution_count": 58,
     "metadata": {},
     "output_type": "execute_result"
    }
   ],
   "source": [
    "print titanic_data.dtypes\n",
    "titanic_data.head()"
   ]
  },
  {
   "cell_type": "markdown",
   "metadata": {},
   "source": [
    "### Survived\n",
    "1/0 is a boolean construct, so I'll change the data to represent this fact."
   ]
  },
  {
   "cell_type": "code",
   "execution_count": 59,
   "metadata": {
    "collapsed": false
   },
   "outputs": [
    {
     "data": {
      "text/html": [
       "<div style=\"max-height:1000px;max-width:1500px;overflow:auto;\">\n",
       "<table border=\"1\" class=\"dataframe\">\n",
       "  <thead>\n",
       "    <tr style=\"text-align: right;\">\n",
       "      <th></th>\n",
       "      <th>Survived</th>\n",
       "      <th>Pclass</th>\n",
       "      <th>Sex</th>\n",
       "      <th>Age</th>\n",
       "      <th>SibSp</th>\n",
       "      <th>Parch</th>\n",
       "      <th>Fare</th>\n",
       "      <th>Cabin</th>\n",
       "    </tr>\n",
       "  </thead>\n",
       "  <tbody>\n",
       "    <tr>\n",
       "      <th>0</th>\n",
       "      <td> False</td>\n",
       "      <td> 3</td>\n",
       "      <td>   male</td>\n",
       "      <td> 22</td>\n",
       "      <td> 1</td>\n",
       "      <td> 0</td>\n",
       "      <td>  7.2500</td>\n",
       "      <td>  NaN</td>\n",
       "    </tr>\n",
       "    <tr>\n",
       "      <th>1</th>\n",
       "      <td>  True</td>\n",
       "      <td> 1</td>\n",
       "      <td> female</td>\n",
       "      <td> 38</td>\n",
       "      <td> 1</td>\n",
       "      <td> 0</td>\n",
       "      <td> 71.2833</td>\n",
       "      <td>  C85</td>\n",
       "    </tr>\n",
       "    <tr>\n",
       "      <th>2</th>\n",
       "      <td>  True</td>\n",
       "      <td> 3</td>\n",
       "      <td> female</td>\n",
       "      <td> 26</td>\n",
       "      <td> 0</td>\n",
       "      <td> 0</td>\n",
       "      <td>  7.9250</td>\n",
       "      <td>  NaN</td>\n",
       "    </tr>\n",
       "    <tr>\n",
       "      <th>3</th>\n",
       "      <td>  True</td>\n",
       "      <td> 1</td>\n",
       "      <td> female</td>\n",
       "      <td> 35</td>\n",
       "      <td> 1</td>\n",
       "      <td> 0</td>\n",
       "      <td> 53.1000</td>\n",
       "      <td> C123</td>\n",
       "    </tr>\n",
       "    <tr>\n",
       "      <th>4</th>\n",
       "      <td> False</td>\n",
       "      <td> 3</td>\n",
       "      <td>   male</td>\n",
       "      <td> 35</td>\n",
       "      <td> 0</td>\n",
       "      <td> 0</td>\n",
       "      <td>  8.0500</td>\n",
       "      <td>  NaN</td>\n",
       "    </tr>\n",
       "  </tbody>\n",
       "</table>\n",
       "</div>"
      ],
      "text/plain": [
       "  Survived  Pclass     Sex  Age  SibSp  Parch     Fare Cabin\n",
       "0    False       3    male   22      1      0   7.2500   NaN\n",
       "1     True       1  female   38      1      0  71.2833   C85\n",
       "2     True       3  female   26      0      0   7.9250   NaN\n",
       "3     True       1  female   35      1      0  53.1000  C123\n",
       "4    False       3    male   35      0      0   8.0500   NaN"
      ]
     },
     "execution_count": 59,
     "metadata": {},
     "output_type": "execute_result"
    }
   ],
   "source": [
    "titanic_data[\"Survived\"] = titanic_data[\"Survived\"].astype(bool)\n",
    "titanic_data.head()"
   ]
  },
  {
   "cell_type": "markdown",
   "metadata": {},
   "source": [
    "### Pclass\n",
    "I saw that Pclass is a int64 datatype, however it really represents a categorical set of values. Therefore I will change its dtype to reflect this."
   ]
  },
  {
   "cell_type": "code",
   "execution_count": 60,
   "metadata": {
    "collapsed": false
   },
   "outputs": [],
   "source": [
    "titanic_data[\"Pclass\"] = titanic_data[\"Pclass\"].astype('category')"
   ]
  },
  {
   "cell_type": "markdown",
   "metadata": {},
   "source": [
    "### Sex\n",
    "Same goes for Sex. It has the more appropriate \"object\" dtype, but I will change it to \"category\"."
   ]
  },
  {
   "cell_type": "code",
   "execution_count": 61,
   "metadata": {
    "collapsed": false
   },
   "outputs": [],
   "source": [
    "titanic_data[\"Sex\"] = titanic_data[\"Sex\"].astype('category')"
   ]
  },
  {
   "cell_type": "markdown",
   "metadata": {},
   "source": [
    "### Cabin\n",
    "\n",
    "\"Cabin\" might be an interesting information when assessing why people survived the sinking of the ship. However I could see already in the limited printout, that for many passengers there seems to be no data in regards of the cabin. So I went to check how many have an entry for \"Cabin\"."
   ]
  },
  {
   "cell_type": "code",
   "execution_count": 62,
   "metadata": {
    "collapsed": false
   },
   "outputs": [
    {
     "name": "stdout",
     "output_type": "stream",
     "text": [
      "204 passengers with cabin data known\n",
      "687 rows have no data for 'Cabin'\n"
     ]
    }
   ],
   "source": [
    "cabin_known = titanic_data[\"Cabin\"].notnull().sum()\n",
    "no_cabin_value = titanic_data[\"Cabin\"].isnull().sum()\n",
    "\n",
    "print cabin_known, \"passengers with cabin data known\"\n",
    "print no_cabin_value, \"rows have no data for 'Cabin'\""
   ]
  },
  {
   "cell_type": "markdown",
   "metadata": {},
   "source": [
    "I will keep the \"Cabin\" column around, because it might be interesting. Even though not even quite a quarter of the passengers have specific information in the \"Cabin\" column, I am not sure whether \"NaN\" means that they did not stay in a cabin, or whether this data is simply not recorded.\n",
    "\n",
    "For now I will assume that my dataset is a (more or less) complete record. This would mean that those passengers who do not have a cabin number specified, did actually not stay in a cabin.\n",
    "\n",
    "---\n",
    "\n",
    "Next I am wondering how does this relate to Pclass, titled to be a proxy for socio-economic status.\n",
    "\n",
    "Because it seems also pretty obvious, that _Rose_ (as a first-class passenger) was lodging in a Cabin, while _Jack_ (Pclass = 3) did not have this luxury available. (Even though I did not find this information explicitly in the wiki pages.)"
   ]
  },
  {
   "cell_type": "code",
   "execution_count": 63,
   "metadata": {
    "collapsed": false
   },
   "outputs": [
    {
     "data": {
      "text/html": [
       "<div style=\"max-height:1000px;max-width:1500px;overflow:auto;\">\n",
       "<table border=\"1\" class=\"dataframe\">\n",
       "  <thead>\n",
       "    <tr style=\"text-align: right;\">\n",
       "      <th></th>\n",
       "      <th>Cabin NaN</th>\n",
       "      <th>Cabin known</th>\n",
       "    </tr>\n",
       "  </thead>\n",
       "  <tbody>\n",
       "    <tr>\n",
       "      <th>Pclass1</th>\n",
       "      <td>  40</td>\n",
       "      <td> 176</td>\n",
       "    </tr>\n",
       "    <tr>\n",
       "      <th>Pclass2</th>\n",
       "      <td> 168</td>\n",
       "      <td>  16</td>\n",
       "    </tr>\n",
       "    <tr>\n",
       "      <th>Pclass3</th>\n",
       "      <td> 479</td>\n",
       "      <td>  12</td>\n",
       "    </tr>\n",
       "  </tbody>\n",
       "</table>\n",
       "</div>"
      ],
      "text/plain": [
       "         Cabin NaN  Cabin known\n",
       "Pclass1         40          176\n",
       "Pclass2        168           16\n",
       "Pclass3        479           12"
      ]
     },
     "execution_count": 63,
     "metadata": {},
     "output_type": "execute_result"
    }
   ],
   "source": [
    "# creating a DataFrame to store this information\n",
    "cabin_class_1 = titanic_data[titanic_data[\"Pclass\"] == 1][\"Cabin\"].notnull().sum()\n",
    "cabin_class_2 = titanic_data[titanic_data[\"Pclass\"] == 2][\"Cabin\"].notnull().sum()\n",
    "cabin_class_3 = titanic_data[titanic_data[\"Pclass\"] == 3][\"Cabin\"].notnull().sum()\n",
    "nan_class_1 = titanic_data[titanic_data[\"Pclass\"] == 1][\"Cabin\"].isnull().sum()\n",
    "nan_class_2 = titanic_data[titanic_data[\"Pclass\"] == 2][\"Cabin\"].isnull().sum()\n",
    "nan_class_3 = titanic_data[titanic_data[\"Pclass\"] == 3][\"Cabin\"].isnull().sum()\n",
    "\n",
    "class_cabin_dict = {\"Cabin known\" : pd.Series([cabin_class_1, cabin_class_2, cabin_class_3], index=[\"Pclass1\", \"Pclass2\", \"Pclass3\"]),\n",
    "                   \"Cabin NaN\" : pd.Series([nan_class_1, nan_class_2, nan_class_3], index=[\"Pclass1\", \"Pclass2\", \"Pclass3\"])}\n",
    "class_cabin_df = pd.DataFrame(class_cabin_dict)\n",
    "class_cabin_df"
   ]
  },
  {
   "cell_type": "markdown",
   "metadata": {},
   "source": [
    "Pclass and Cabin seem to be correlated. I think it's time for a graph! :)"
   ]
  },
  {
   "cell_type": "markdown",
   "metadata": {},
   "source": [
    "Looked for a stacked bar graph to show all Cabin yes vs. all Cabin no, stacked as Classes with color coding!\n",
    "\n",
    "I decided to use some code to generate stacked bar graphs, which I found online and adapted for my needs."
   ]
  },
  {
   "cell_type": "code",
   "execution_count": 64,
   "metadata": {
    "collapsed": false
   },
   "outputs": [
    {
     "data": {
      "text/plain": [
       "<matplotlib.text.Text at 0x10de74fd0>"
      ]
     },
     "execution_count": 64,
     "metadata": {},
     "output_type": "execute_result"
    },
    {
     "data": {
      "image/png": "[encoded data removed]",
      "text/plain": [
       "<matplotlib.figure.Figure at 0x10df3d390>"
      ]
     },
     "metadata": {},
     "output_type": "display_data"
    }
   ],
   "source": [
    "         # courtesy of https://github.com/minillinim/stackedBarGraph GPLv3 - Thanks :)\n",
    "%matplotlib inline\n",
    "import numpy as np\n",
    "import matplotlib.pyplot as plt\n",
    "import stackedBarGraph as sbg\n",
    "\n",
    "# creating an instance of the stackedBarGraph class\n",
    "class_cabin = sbg.StackedBarGrapher()\n",
    "\n",
    "# convert the data on whether a cabin was booked in relation to the Pclass into a 2 dimensional numpy array\n",
    "cabin_yes_no = np.array([class_cabin_df[\"Cabin known\"].values,\n",
    "                        class_cabin_df[\"Cabin NaN\"].values])\n",
    "\n",
    "# convert np array values to float to work with stackedBarGraph\n",
    "cabin_yes_no = cabin_yes_no.astype(float)\n",
    "\n",
    "# setting the values\n",
    "cabin_yes_no_labels = [\"cabin\",\"w/o cabin\"]\n",
    "cabin_yes_no_colors = ['#2166ac', '#fee090', '#fdbb84']\n",
    "\n",
    "fig = plt.figure()\n",
    "ax1 = fig.add_subplot(111)\n",
    "class_cabin.stackedBarPlot(ax1,\n",
    "                    cabin_yes_no,\n",
    "                    cabin_yes_no_colors,\n",
    "                    edgeCols=['#000000']*len(cabin_yes_no[0]),\n",
    "                    xLabels=cabin_yes_no_labels,\n",
    "                    ylabel=\"Percentage (%)\",\n",
    "                    scale=True\n",
    "                    )\n",
    "plt.legend([\"Pclass 1\", \"Pclass 2\", \"Pclass 3\"], loc='lower left')\n",
    "plt.title(\"Percentage of passengers stacked per Pclass\")"
   ]
  },
  {
   "cell_type": "markdown",
   "metadata": {},
   "source": [
    "From the graph it is apparent (although less surprising), that most passengers for whom a cabin information is recorded were belonging to Pclass 1.\n",
    "Even though there is absolutely no certainty to this, it might be reasonable to assume that the cabin information was well recorded. This idea comes because it seems valid to assume that most people in Pclass 1 would book a cabin, while most people in Pclass 3 would not do so in order to save on the fare.\n",
    "\n",
    "Therefore if:\n",
    "- cabin information was diligently recorded and\n",
    "- the assumption that Pclass can be seen as a proxy for socioeconomic status is true,\n",
    "\n",
    "then I think it is valid to say that cabin yes/no can also be seen as a proxy for socioeconomic status."
   ]
  },
  {
   "cell_type": "code",
   "execution_count": 65,
   "metadata": {
    "collapsed": false
   },
   "outputs": [
    {
     "data": {
      "text/html": [
       "<div style=\"max-height:1000px;max-width:1500px;overflow:auto;\">\n",
       "<table border=\"1\" class=\"dataframe\">\n",
       "  <thead>\n",
       "    <tr style=\"text-align: right;\">\n",
       "      <th></th>\n",
       "      <th>Survived</th>\n",
       "      <th>Pclass</th>\n",
       "      <th>Sex</th>\n",
       "      <th>Age</th>\n",
       "      <th>SibSp</th>\n",
       "      <th>Parch</th>\n",
       "      <th>Fare</th>\n",
       "      <th>Cabin</th>\n",
       "    </tr>\n",
       "  </thead>\n",
       "  <tbody>\n",
       "    <tr>\n",
       "      <th>0</th>\n",
       "      <td> False</td>\n",
       "      <td> 3</td>\n",
       "      <td>   male</td>\n",
       "      <td> 22</td>\n",
       "      <td> 1</td>\n",
       "      <td> 0</td>\n",
       "      <td>  7.2500</td>\n",
       "      <td>  NaN</td>\n",
       "    </tr>\n",
       "    <tr>\n",
       "      <th>1</th>\n",
       "      <td>  True</td>\n",
       "      <td> 1</td>\n",
       "      <td> female</td>\n",
       "      <td> 38</td>\n",
       "      <td> 1</td>\n",
       "      <td> 0</td>\n",
       "      <td> 71.2833</td>\n",
       "      <td>  C85</td>\n",
       "    </tr>\n",
       "    <tr>\n",
       "      <th>2</th>\n",
       "      <td>  True</td>\n",
       "      <td> 3</td>\n",
       "      <td> female</td>\n",
       "      <td> 26</td>\n",
       "      <td> 0</td>\n",
       "      <td> 0</td>\n",
       "      <td>  7.9250</td>\n",
       "      <td>  NaN</td>\n",
       "    </tr>\n",
       "    <tr>\n",
       "      <th>3</th>\n",
       "      <td>  True</td>\n",
       "      <td> 1</td>\n",
       "      <td> female</td>\n",
       "      <td> 35</td>\n",
       "      <td> 1</td>\n",
       "      <td> 0</td>\n",
       "      <td> 53.1000</td>\n",
       "      <td> C123</td>\n",
       "    </tr>\n",
       "    <tr>\n",
       "      <th>4</th>\n",
       "      <td> False</td>\n",
       "      <td> 3</td>\n",
       "      <td>   male</td>\n",
       "      <td> 35</td>\n",
       "      <td> 0</td>\n",
       "      <td> 0</td>\n",
       "      <td>  8.0500</td>\n",
       "      <td>  NaN</td>\n",
       "    </tr>\n",
       "  </tbody>\n",
       "</table>\n",
       "</div>"
      ],
      "text/plain": [
       "  Survived Pclass     Sex  Age  SibSp  Parch     Fare Cabin\n",
       "0    False      3    male   22      1      0   7.2500   NaN\n",
       "1     True      1  female   38      1      0  71.2833   C85\n",
       "2     True      3  female   26      0      0   7.9250   NaN\n",
       "3     True      1  female   35      1      0  53.1000  C123\n",
       "4    False      3    male   35      0      0   8.0500   NaN"
      ]
     },
     "execution_count": 65,
     "metadata": {},
     "output_type": "execute_result"
    }
   ],
   "source": [
    "titanic_data.head()"
   ]
  },
  {
   "cell_type": "code",
   "execution_count": 66,
   "metadata": {
    "collapsed": false
   },
   "outputs": [
    {
     "data": {
      "text/html": [
       "<div style=\"max-height:1000px;max-width:1500px;overflow:auto;\">\n",
       "<table border=\"1\" class=\"dataframe\">\n",
       "  <thead>\n",
       "    <tr style=\"text-align: right;\">\n",
       "      <th></th>\n",
       "      <th>Survived</th>\n",
       "      <th>Pclass</th>\n",
       "      <th>Sex</th>\n",
       "      <th>Age</th>\n",
       "      <th>SibSp</th>\n",
       "      <th>Parch</th>\n",
       "      <th>Fare</th>\n",
       "      <th>Cabin</th>\n",
       "    </tr>\n",
       "  </thead>\n",
       "  <tbody>\n",
       "    <tr>\n",
       "      <th>0</th>\n",
       "      <td> False</td>\n",
       "      <td> 3</td>\n",
       "      <td>   male</td>\n",
       "      <td> 22</td>\n",
       "      <td> 1</td>\n",
       "      <td> 0</td>\n",
       "      <td>  7.2500</td>\n",
       "      <td> False</td>\n",
       "    </tr>\n",
       "    <tr>\n",
       "      <th>1</th>\n",
       "      <td>  True</td>\n",
       "      <td> 1</td>\n",
       "      <td> female</td>\n",
       "      <td> 38</td>\n",
       "      <td> 1</td>\n",
       "      <td> 0</td>\n",
       "      <td> 71.2833</td>\n",
       "      <td>  True</td>\n",
       "    </tr>\n",
       "    <tr>\n",
       "      <th>2</th>\n",
       "      <td>  True</td>\n",
       "      <td> 3</td>\n",
       "      <td> female</td>\n",
       "      <td> 26</td>\n",
       "      <td> 0</td>\n",
       "      <td> 0</td>\n",
       "      <td>  7.9250</td>\n",
       "      <td> False</td>\n",
       "    </tr>\n",
       "    <tr>\n",
       "      <th>3</th>\n",
       "      <td>  True</td>\n",
       "      <td> 1</td>\n",
       "      <td> female</td>\n",
       "      <td> 35</td>\n",
       "      <td> 1</td>\n",
       "      <td> 0</td>\n",
       "      <td> 53.1000</td>\n",
       "      <td>  True</td>\n",
       "    </tr>\n",
       "    <tr>\n",
       "      <th>4</th>\n",
       "      <td> False</td>\n",
       "      <td> 3</td>\n",
       "      <td>   male</td>\n",
       "      <td> 35</td>\n",
       "      <td> 0</td>\n",
       "      <td> 0</td>\n",
       "      <td>  8.0500</td>\n",
       "      <td> False</td>\n",
       "    </tr>\n",
       "  </tbody>\n",
       "</table>\n",
       "</div>"
      ],
      "text/plain": [
       "  Survived Pclass     Sex  Age  SibSp  Parch     Fare  Cabin\n",
       "0    False      3    male   22      1      0   7.2500  False\n",
       "1     True      1  female   38      1      0  71.2833   True\n",
       "2     True      3  female   26      0      0   7.9250  False\n",
       "3     True      1  female   35      1      0  53.1000   True\n",
       "4    False      3    male   35      0      0   8.0500  False"
      ]
     },
     "execution_count": 66,
     "metadata": {},
     "output_type": "execute_result"
    }
   ],
   "source": [
    "# reducing the cabin information to boolean values\n",
    "titanic_data[\"Cabin\"] = titanic_data[\"Cabin\"].notnull()\n",
    "titanic_data.head()"
   ]
  },
  {
   "cell_type": "markdown",
   "metadata": {},
   "source": [
    "### SibSp and Parch = Relatives\n",
    "I will unify the two columns indicating whether the passenger had relatives on board into a single column with boolean values.\n",
    "\n",
    "Regarding my question about the movie, I'll take a note here that the character _Rose_ had relatives on board (her mother), and the character _Jack_ did not."
   ]
  },
  {
   "cell_type": "code",
   "execution_count": 67,
   "metadata": {
    "collapsed": false
   },
   "outputs": [],
   "source": [
    "# replacing the 0 values for NaN in order to be able to use the notnull() function on these columns\n",
    "titanic_data[\"SibSp\"] = titanic_data[\"SibSp\"].replace(0, np.nan)\n",
    "titanic_data[\"Parch\"] = titanic_data[\"Parch\"].replace(0, np.nan)"
   ]
  },
  {
   "cell_type": "code",
   "execution_count": 68,
   "metadata": {
    "collapsed": false,
    "scrolled": true
   },
   "outputs": [
    {
     "data": {
      "text/html": [
       "<div style=\"max-height:1000px;max-width:1500px;overflow:auto;\">\n",
       "<table border=\"1\" class=\"dataframe\">\n",
       "  <thead>\n",
       "    <tr style=\"text-align: right;\">\n",
       "      <th></th>\n",
       "      <th>Survived</th>\n",
       "      <th>Pclass</th>\n",
       "      <th>Sex</th>\n",
       "      <th>Age</th>\n",
       "      <th>Fare</th>\n",
       "      <th>Cabin</th>\n",
       "      <th>Relatives</th>\n",
       "    </tr>\n",
       "  </thead>\n",
       "  <tbody>\n",
       "    <tr>\n",
       "      <th>0</th>\n",
       "      <td> False</td>\n",
       "      <td> 3</td>\n",
       "      <td>   male</td>\n",
       "      <td> 22</td>\n",
       "      <td>  7.2500</td>\n",
       "      <td> False</td>\n",
       "      <td>  True</td>\n",
       "    </tr>\n",
       "    <tr>\n",
       "      <th>1</th>\n",
       "      <td>  True</td>\n",
       "      <td> 1</td>\n",
       "      <td> female</td>\n",
       "      <td> 38</td>\n",
       "      <td> 71.2833</td>\n",
       "      <td>  True</td>\n",
       "      <td>  True</td>\n",
       "    </tr>\n",
       "    <tr>\n",
       "      <th>2</th>\n",
       "      <td>  True</td>\n",
       "      <td> 3</td>\n",
       "      <td> female</td>\n",
       "      <td> 26</td>\n",
       "      <td>  7.9250</td>\n",
       "      <td> False</td>\n",
       "      <td> False</td>\n",
       "    </tr>\n",
       "    <tr>\n",
       "      <th>3</th>\n",
       "      <td>  True</td>\n",
       "      <td> 1</td>\n",
       "      <td> female</td>\n",
       "      <td> 35</td>\n",
       "      <td> 53.1000</td>\n",
       "      <td>  True</td>\n",
       "      <td>  True</td>\n",
       "    </tr>\n",
       "    <tr>\n",
       "      <th>4</th>\n",
       "      <td> False</td>\n",
       "      <td> 3</td>\n",
       "      <td>   male</td>\n",
       "      <td> 35</td>\n",
       "      <td>  8.0500</td>\n",
       "      <td> False</td>\n",
       "      <td> False</td>\n",
       "    </tr>\n",
       "  </tbody>\n",
       "</table>\n",
       "</div>"
      ],
      "text/plain": [
       "  Survived Pclass     Sex  Age     Fare  Cabin Relatives\n",
       "0    False      3    male   22   7.2500  False      True\n",
       "1     True      1  female   38  71.2833   True      True\n",
       "2     True      3  female   26   7.9250  False     False\n",
       "3     True      1  female   35  53.1000   True      True\n",
       "4    False      3    male   35   8.0500  False     False"
      ]
     },
     "execution_count": 68,
     "metadata": {},
     "output_type": "execute_result"
    }
   ],
   "source": [
    "# the new feature \"Relatives\" is True when either of the two columns SibSp or Parch has a value\n",
    "titanic_data[\"Relatives\"] = (titanic_data[\"SibSp\"].notnull()) | (titanic_data[\"Parch\"].notnull())\n",
    "\n",
    "# removing the two superfluos columns\n",
    "titanic_data = titanic_data.drop([\"SibSp\", \"Parch\"], 1)\n",
    "\n",
    "titanic_data.head()"
   ]
  },
  {
   "cell_type": "markdown",
   "metadata": {},
   "source": [
    "### Fare\n",
    "First I will change the values for \"Fare\" to be integers instead of floats, because these minute differences are very likely not important, and formatted as integers it makes it easier to keep an overview."
   ]
  },
  {
   "cell_type": "code",
   "execution_count": 69,
   "metadata": {
    "collapsed": false,
    "scrolled": true
   },
   "outputs": [
    {
     "name": "stdout",
     "output_type": "stream",
     "text": [
      "Survived         bool\n",
      "Pclass       category\n",
      "Sex          category\n",
      "Age           float64\n",
      "Fare            int64\n",
      "Cabin            bool\n",
      "Relatives        bool\n",
      "dtype: object\n"
     ]
    },
    {
     "data": {
      "text/html": [
       "<div style=\"max-height:1000px;max-width:1500px;overflow:auto;\">\n",
       "<table border=\"1\" class=\"dataframe\">\n",
       "  <thead>\n",
       "    <tr style=\"text-align: right;\">\n",
       "      <th></th>\n",
       "      <th>Survived</th>\n",
       "      <th>Pclass</th>\n",
       "      <th>Sex</th>\n",
       "      <th>Age</th>\n",
       "      <th>Fare</th>\n",
       "      <th>Cabin</th>\n",
       "      <th>Relatives</th>\n",
       "    </tr>\n",
       "  </thead>\n",
       "  <tbody>\n",
       "    <tr>\n",
       "      <th>0</th>\n",
       "      <td> False</td>\n",
       "      <td> 3</td>\n",
       "      <td>   male</td>\n",
       "      <td> 22</td>\n",
       "      <td>  7</td>\n",
       "      <td> False</td>\n",
       "      <td>  True</td>\n",
       "    </tr>\n",
       "    <tr>\n",
       "      <th>1</th>\n",
       "      <td>  True</td>\n",
       "      <td> 1</td>\n",
       "      <td> female</td>\n",
       "      <td> 38</td>\n",
       "      <td> 71</td>\n",
       "      <td>  True</td>\n",
       "      <td>  True</td>\n",
       "    </tr>\n",
       "    <tr>\n",
       "      <th>2</th>\n",
       "      <td>  True</td>\n",
       "      <td> 3</td>\n",
       "      <td> female</td>\n",
       "      <td> 26</td>\n",
       "      <td>  7</td>\n",
       "      <td> False</td>\n",
       "      <td> False</td>\n",
       "    </tr>\n",
       "    <tr>\n",
       "      <th>3</th>\n",
       "      <td>  True</td>\n",
       "      <td> 1</td>\n",
       "      <td> female</td>\n",
       "      <td> 35</td>\n",
       "      <td> 53</td>\n",
       "      <td>  True</td>\n",
       "      <td>  True</td>\n",
       "    </tr>\n",
       "    <tr>\n",
       "      <th>4</th>\n",
       "      <td> False</td>\n",
       "      <td> 3</td>\n",
       "      <td>   male</td>\n",
       "      <td> 35</td>\n",
       "      <td>  8</td>\n",
       "      <td> False</td>\n",
       "      <td> False</td>\n",
       "    </tr>\n",
       "  </tbody>\n",
       "</table>\n",
       "</div>"
      ],
      "text/plain": [
       "  Survived Pclass     Sex  Age  Fare  Cabin Relatives\n",
       "0    False      3    male   22     7  False      True\n",
       "1     True      1  female   38    71   True      True\n",
       "2     True      3  female   26     7  False     False\n",
       "3     True      1  female   35    53   True      True\n",
       "4    False      3    male   35     8  False     False"
      ]
     },
     "execution_count": 69,
     "metadata": {},
     "output_type": "execute_result"
    }
   ],
   "source": [
    "titanic_data[\"Fare\"] = titanic_data[\"Fare\"].astype('int64')\n",
    "\n",
    "print titanic_data.dtypes\n",
    "titanic_data.head()"
   ]
  },
  {
   "cell_type": "markdown",
   "metadata": {},
   "source": [
    "## 3) Investigating the single variables\n",
    "Before thinking about how the different features relate to each other, I will take a short look at the single variables.\n",
    "\n",
    "For this, I will write a multi-purpose-function."
   ]
  },
  {
   "cell_type": "code",
   "execution_count": 125,
   "metadata": {
    "collapsed": false
   },
   "outputs": [],
   "source": [
    "def stats_and_plot(dataset, column_header):\n",
    "    '''Calculates basic statistical values and a bar plot or histogram for one column.\n",
    "    \n",
    "    takes as input the name of a column in the titanic_data\n",
    "    depending on whether the column holds quantitative or categorical data:\n",
    "    - display appropriate statistical values for the column\n",
    "    - constructs a histogram or a bar chart\n",
    "    '''\n",
    "    quantitative_data = [\"float64\", \"int64\"]\n",
    "    categorical_data = [\"category\", \"object\", \"bool\"]\n",
    "    \n",
    "    print dataset[column_header].describe()\n",
    "    if dataset[column_header].dtype.name in quantitative_data:\n",
    "        print \"median   \", dataset[column_header].median()\n",
    "    \n",
    "    %matplotlib inline\n",
    "    import numpy as np\n",
    "    import matplotlib.pyplot as plt\n",
    "    \n",
    "    # removing the rows that contain no values for the queried feature\n",
    "    data_no_nan = np.array(dataset[column_header].dropna())\n",
    "    print \"\\nNumber of rows used for the following graph:\", len(data_no_nan)\n",
    "    if dataset[column_header].dtype.name in quantitative_data:\n",
    "        # getting the min and max for the axis\n",
    "        min_val = dataset[column_header].min()\n",
    "        max_val = dataset[column_header].max()\n",
    "        # constructing the histogram\n",
    "        plt.hist(data_no_nan)\n",
    "        plt.xlabel(column_header)\n",
    "        plt.ylabel(\"amount of passengers\")\n",
    "        plt.title(\"single-variable analysis for \" + column_header)\n",
    "        plt.grid(True)\n",
    "    elif dataset[column_header].dtype.name in categorical_data:\n",
    "        # bins should be the amount of categorical values present, if categorical\n",
    "        # constructing the bar plot\n",
    "        dataset[column_header].value_counts().plot(kind=\"bar\")\n",
    "        plt.xlabel(column_header)\n",
    "        plt.ylabel(\"amount of passengers\")\n",
    "        plt.title(\"single-variable analysis for \" + column_header)\n",
    "        plt.grid(True)"
   ]
  },
  {
   "cell_type": "markdown",
   "metadata": {},
   "source": [
    "I have written this function to take only those rows into account, that hold a value for the queried feature.\n",
    "\n",
    "This is not optimum, because it reduces the meaningfulness of the statistics.\n",
    "\n",
    "By removing the NaN rows, I basically consider only a subset of the data. It is like taking a sample, but not a representative sample, because I am selecting very specifically according to whether values are recorded for that feature or not.\n",
    "\n",
    "Another problem with this approach is, that I am using this function to construct the graphs for different features of the dataset, however I am always just dropping the NaN values. Which rows hold values and which ones don't, is however different regarding one feature or the other.\n",
    "\n",
    "To use a stark example, this could mean that there might be 400 rows that hold a value for \"Age\" but no value for \"Fare\", and another 400 where it is the opposite.\n",
    "Using my `stats_and_plot()` function, the two graphs would be constructed from a completely different subset of the `titanic_data`. But this is not visible when only looking at the printed statistics and graphs, therefore the visualizations shouldn't be directly compared or this might lead to wrong conclusions.\n",
    "\n",
    "To hint at this problem also in the output, I've included a count that shows how many rows of the dataset have been included in the visualization. This does not clearly state that the rows used might be different from one another, but it does show that due to dropping the NaN's, not the whole dataset was included in the generated visualization.\n",
    "\n",
    "It also has to be noted, that the graph for \"Cabin\" might be misleading, because I there substituted NaN values for boolean False, with the assumption that those without Cabin data recorded did actually not have a cabin. However, there is no certainty to this."
   ]
  },
  {
   "cell_type": "code",
   "execution_count": 127,
   "metadata": {
    "collapsed": false
   },
   "outputs": [
    {
     "name": "stdout",
     "output_type": "stream",
     "text": [
      "count          891\n",
      "mean     0.3838384\n",
      "std      0.4865925\n",
      "min          False\n",
      "25%              0\n",
      "50%              0\n",
      "75%              1\n",
      "max           True\n",
      "Name: Survived, dtype: object\n",
      "\n",
      "Number of rows used for the following graph: 891\n"
     ]
    },
    {
     "data": {
      "image/png": "[encoded data removed]",
      "text/plain": [
       "<matplotlib.figure.Figure at 0x10cc5a6d0>"
      ]
     },
     "metadata": {},
     "output_type": "display_data"
    }
   ],
   "source": [
    "stats_and_plot(titanic_data, \"Survived\")"
   ]
  },
  {
   "cell_type": "markdown",
   "metadata": {},
   "source": [
    "More people died than survived. Ah..."
   ]
  },
  {
   "cell_type": "code",
   "execution_count": 128,
   "metadata": {
    "collapsed": false,
    "scrolled": true
   },
   "outputs": [
    {
     "name": "stdout",
     "output_type": "stream",
     "text": [
      "count     891\n",
      "unique      3\n",
      "top         3\n",
      "freq      491\n",
      "Name: Pclass, dtype: int64\n",
      "\n",
      "Number of rows used for the following graph: 891\n"
     ]
    },
    {
     "data": {
      "image/png": "[encoded data removed]",
      "text/plain": [
       "<matplotlib.figure.Figure at 0x10d54bc90>"
      ]
     },
     "metadata": {},
     "output_type": "display_data"
    }
   ],
   "source": [
    "stats_and_plot(titanic_data, \"Pclass\")"
   ]
  },
  {
   "cell_type": "markdown",
   "metadata": {},
   "source": [
    "Most people on the ship were poor."
   ]
  },
  {
   "cell_type": "code",
   "execution_count": 129,
   "metadata": {
    "collapsed": false
   },
   "outputs": [
    {
     "name": "stdout",
     "output_type": "stream",
     "text": [
      "count      891\n",
      "unique       2\n",
      "top       male\n",
      "freq       577\n",
      "Name: Sex, dtype: object\n",
      "\n",
      "Number of rows used for the following graph: 891\n"
     ]
    },
    {
     "data": {
      "image/png": "[encoded data removed]",
      "text/plain": [
       "<matplotlib.figure.Figure at 0x10d97ad90>"
      ]
     },
     "metadata": {},
     "output_type": "display_data"
    }
   ],
   "source": [
    "stats_and_plot(titanic_data, \"Sex\")"
   ]
  },
  {
   "cell_type": "markdown",
   "metadata": {},
   "source": [
    "There were significantly more Males than Females on the ship."
   ]
  },
  {
   "cell_type": "code",
   "execution_count": 130,
   "metadata": {
    "collapsed": false
   },
   "outputs": [
    {
     "name": "stdout",
     "output_type": "stream",
     "text": [
      "count    714.000000\n",
      "mean      29.699118\n",
      "std       14.526497\n",
      "min        0.420000\n",
      "25%       20.125000\n",
      "50%       28.000000\n",
      "75%       38.000000\n",
      "max       80.000000\n",
      "Name: Age, dtype: float64\n",
      "median    28.0\n",
      "\n",
      "Number of rows used for the following graph: 714\n"
     ]
    },
    {
     "data": {
      "image/png": "[encoded data removed]",
      "text/plain": [
       "<matplotlib.figure.Figure at 0x10cc5af90>"
      ]
     },
     "metadata": {},
     "output_type": "display_data"
    }
   ],
   "source": [
    "stats_and_plot(titanic_data, \"Age\")"
   ]
  },
  {
   "cell_type": "markdown",
   "metadata": {},
   "source": [
    "There were quite some children, but the majority of the travellers were in mid-age (20-40).\n",
    "\n",
    "It also is important to mention, that unlike the other graphs, the one for \"Age\" has only used 714 of the 819 rows, because some passengers did not have an information recorded for their age. Therefore this graph should be looked at a bit differently than the other ones, because it only gives us information about a subset of the data."
   ]
  },
  {
   "cell_type": "code",
   "execution_count": 131,
   "metadata": {
    "collapsed": false
   },
   "outputs": [
    {
     "name": "stdout",
     "output_type": "stream",
     "text": [
      "count    891.000000\n",
      "mean      31.785634\n",
      "std       49.703730\n",
      "min        0.000000\n",
      "25%        7.000000\n",
      "50%       14.000000\n",
      "75%       31.000000\n",
      "max      512.000000\n",
      "Name: Fare, dtype: float64\n",
      "median    14.0\n",
      "\n",
      "Number of rows used for the following graph: 891\n"
     ]
    },
    {
     "data": {
      "image/png": "[encoded data removed]",
      "text/plain": [
       "<matplotlib.figure.Figure at 0x10d63f750>"
      ]
     },
     "metadata": {},
     "output_type": "display_data"
    }
   ],
   "source": [
    "stats_and_plot(titanic_data, \"Fare\")"
   ]
  },
  {
   "cell_type": "markdown",
   "metadata": {},
   "source": [
    "Most tickets purchased were in the lower price range, there are some more expensive ones and a very high-up outlier."
   ]
  },
  {
   "cell_type": "code",
   "execution_count": 132,
   "metadata": {
    "collapsed": false
   },
   "outputs": [
    {
     "name": "stdout",
     "output_type": "stream",
     "text": [
      "count          891\n",
      "mean     0.2289562\n",
      "std       0.420397\n",
      "min          False\n",
      "25%              0\n",
      "50%              0\n",
      "75%              0\n",
      "max           True\n",
      "Name: Cabin, dtype: object\n",
      "\n",
      "Number of rows used for the following graph: 891\n"
     ]
    },
    {
     "data": {
      "image/png": "[encoded data removed]",
      "text/plain": [
       "<matplotlib.figure.Figure at 0x10dcb59d0>"
      ]
     },
     "metadata": {},
     "output_type": "display_data"
    }
   ],
   "source": [
    "stats_and_plot(titanic_data, \"Cabin\")"
   ]
  },
  {
   "cell_type": "markdown",
   "metadata": {},
   "source": [
    "For most passengers, there is no Cabin information recorded, maybe most didn't lodge in a Cabin.\n",
    "\n",
    "In this case, False is a value that I have constructed from the NaNs in the original dataset. That NaN meant that a passenger did not lodge in a cabin is my assumption and might be incorrect."
   ]
  },
  {
   "cell_type": "code",
   "execution_count": 133,
   "metadata": {
    "collapsed": false
   },
   "outputs": [
    {
     "name": "stdout",
     "output_type": "stream",
     "text": [
      "count          891\n",
      "mean     0.3973064\n",
      "std      0.4896152\n",
      "min          False\n",
      "25%              0\n",
      "50%              0\n",
      "75%              1\n",
      "max           True\n",
      "Name: Relatives, dtype: object\n",
      "\n",
      "Number of rows used for the following graph: 891\n"
     ]
    },
    {
     "data": {
      "image/png": "[encoded data removed]",
      "text/plain": [
       "<matplotlib.figure.Figure at 0x10d0ad150>"
      ]
     },
     "metadata": {},
     "output_type": "display_data"
    }
   ],
   "source": [
    "stats_and_plot(titanic_data, \"Relatives\")"
   ]
  },
  {
   "cell_type": "markdown",
   "metadata": {},
   "source": [
    "And... more people were travelling alone."
   ]
  },
  {
   "cell_type": "markdown",
   "metadata": {
    "collapsed": true
   },
   "source": [
    "## 4) Time for looking for relationships in the data\n",
    "Now I will check how the cleaned data relates to each other, and whether I can discover patterns that could lead to good predictions on survival of the passengers in general.\n",
    "\n",
    "Also, these investigation should bring me closer to answering the question about how historically representative is the death of _Jack Dawson_ at the end of the \"Titanic\" movie."
   ]
  },
  {
   "cell_type": "markdown",
   "metadata": {},
   "source": [
    "Since my basic distinction is gonna be whether someone survived or not, I'll split the data according to \"Survived\"."
   ]
  },
  {
   "cell_type": "code",
   "execution_count": 134,
   "metadata": {
    "collapsed": false
   },
   "outputs": [],
   "source": [
    "titanic_survivors = titanic_data[titanic_data[\"Survived\"] == True]\n",
    "titanic_non_survivors = titanic_data[titanic_data[\"Survived\"] == False]"
   ]
  },
  {
   "cell_type": "markdown",
   "metadata": {},
   "source": [
    "### Fare"
   ]
  },
  {
   "cell_type": "markdown",
   "metadata": {},
   "source": [
    "According to the wikipedia page, _Jack Dawson_ won his ticket for the Titanic at a card game, therefore it is impossible to determine how much his ticket was actually worth. However, from the lower-class setting where this game took place, and the space he receives when boarding the ship (Pclass 3), it is reasonable to assume that the price of the ticket might have ranged below the median.\n",
    "\n",
    "_Rose_'s ticket, on the other hand, was one from Pclass 1, therefore it probably cost more than the median Fare."
   ]
  },
  {
   "cell_type": "code",
   "execution_count": 135,
   "metadata": {
    "collapsed": false
   },
   "outputs": [
    {
     "data": {
      "text/plain": [
       "14.0"
      ]
     },
     "execution_count": 135,
     "metadata": {},
     "output_type": "execute_result"
    }
   ],
   "source": [
    "titanic_data[\"Fare\"].median()"
   ]
  },
  {
   "cell_type": "code",
   "execution_count": 136,
   "metadata": {
    "collapsed": false,
    "scrolled": false
   },
   "outputs": [
    {
     "data": {
      "text/plain": [
       "count    891.000000\n",
       "mean      31.785634\n",
       "std       49.703730\n",
       "min        0.000000\n",
       "25%        7.000000\n",
       "50%       14.000000\n",
       "75%       31.000000\n",
       "max      512.000000\n",
       "Name: Fare, dtype: float64"
      ]
     },
     "execution_count": 136,
     "metadata": {},
     "output_type": "execute_result"
    }
   ],
   "source": [
    "titanic_data[\"Fare\"].describe()"
   ]
  },
  {
   "cell_type": "markdown",
   "metadata": {},
   "source": [
    "The minimum is 0, so I am wondering whether informationis missing for Fare, or whether it is recorded that some passenger(s) actually paid 0$."
   ]
  },
  {
   "cell_type": "code",
   "execution_count": 137,
   "metadata": {
    "collapsed": false
   },
   "outputs": [
    {
     "name": "stdout",
     "output_type": "stream",
     "text": [
      "NaN in Fare: 0\n",
      "0 in Fare: 15\n"
     ]
    }
   ],
   "source": [
    "# for how many passengers is no Fare information recorded\n",
    "amount_missing_fares = titanic_data[\"Fare\"].isnull().sum()\n",
    "# how many passengers paid 0\n",
    "amount_zero_fares = len(titanic_data[titanic_data[\"Fare\"] == 0][\"Fare\"])\n",
    "        \n",
    "print \"NaN in Fare:\", amount_missing_fares\n",
    "print \"0 in Fare:\", amount_zero_fares"
   ]
  },
  {
   "cell_type": "markdown",
   "metadata": {},
   "source": [
    "Now that I know that there should be 15 passengers who paid a 0$ Fare, I'll take a look at the relevant rows!"
   ]
  },
  {
   "cell_type": "code",
   "execution_count": 138,
   "metadata": {
    "collapsed": false
   },
   "outputs": [
    {
     "data": {
      "text/html": [
       "<div style=\"max-height:1000px;max-width:1500px;overflow:auto;\">\n",
       "<table border=\"1\" class=\"dataframe\">\n",
       "  <thead>\n",
       "    <tr style=\"text-align: right;\">\n",
       "      <th></th>\n",
       "      <th>Survived</th>\n",
       "      <th>Age</th>\n",
       "      <th>Fare</th>\n",
       "      <th>Cabin</th>\n",
       "      <th>Relatives</th>\n",
       "    </tr>\n",
       "  </thead>\n",
       "  <tbody>\n",
       "    <tr>\n",
       "      <th>count</th>\n",
       "      <td>         15</td>\n",
       "      <td>  7.000000</td>\n",
       "      <td> 15</td>\n",
       "      <td>        15</td>\n",
       "      <td>    15</td>\n",
       "    </tr>\n",
       "    <tr>\n",
       "      <th>mean</th>\n",
       "      <td> 0.06666667</td>\n",
       "      <td> 35.142857</td>\n",
       "      <td>  0</td>\n",
       "      <td>       0.2</td>\n",
       "      <td>     0</td>\n",
       "    </tr>\n",
       "    <tr>\n",
       "      <th>std</th>\n",
       "      <td>  0.2581989</td>\n",
       "      <td> 10.023781</td>\n",
       "      <td>  0</td>\n",
       "      <td> 0.4140393</td>\n",
       "      <td>     0</td>\n",
       "    </tr>\n",
       "    <tr>\n",
       "      <th>min</th>\n",
       "      <td>      False</td>\n",
       "      <td> 19.000000</td>\n",
       "      <td>  0</td>\n",
       "      <td>     False</td>\n",
       "      <td> False</td>\n",
       "    </tr>\n",
       "    <tr>\n",
       "      <th>25%</th>\n",
       "      <td>          0</td>\n",
       "      <td> 30.500000</td>\n",
       "      <td>  0</td>\n",
       "      <td>         0</td>\n",
       "      <td>     0</td>\n",
       "    </tr>\n",
       "    <tr>\n",
       "      <th>50%</th>\n",
       "      <td>          0</td>\n",
       "      <td> 38.000000</td>\n",
       "      <td>  0</td>\n",
       "      <td>         0</td>\n",
       "      <td>     0</td>\n",
       "    </tr>\n",
       "    <tr>\n",
       "      <th>75%</th>\n",
       "      <td>          0</td>\n",
       "      <td> 39.500000</td>\n",
       "      <td>  0</td>\n",
       "      <td>         0</td>\n",
       "      <td>     0</td>\n",
       "    </tr>\n",
       "    <tr>\n",
       "      <th>max</th>\n",
       "      <td>       True</td>\n",
       "      <td> 49.000000</td>\n",
       "      <td>  0</td>\n",
       "      <td>      True</td>\n",
       "      <td> False</td>\n",
       "    </tr>\n",
       "  </tbody>\n",
       "</table>\n",
       "</div>"
      ],
      "text/plain": [
       "         Survived        Age  Fare      Cabin Relatives\n",
       "count          15   7.000000    15         15        15\n",
       "mean   0.06666667  35.142857     0        0.2         0\n",
       "std     0.2581989  10.023781     0  0.4140393         0\n",
       "min         False  19.000000     0      False     False\n",
       "25%             0  30.500000     0          0         0\n",
       "50%             0  38.000000     0          0         0\n",
       "75%             0  39.500000     0          0         0\n",
       "max          True  49.000000     0       True     False"
      ]
     },
     "execution_count": 138,
     "metadata": {},
     "output_type": "execute_result"
    }
   ],
   "source": [
    "free_riders = titanic_data[titanic_data[\"Fare\"] == 0]\n",
    "# investigate numerical and boolean values\n",
    "free_riders.describe()"
   ]
  },
  {
   "cell_type": "code",
   "execution_count": 139,
   "metadata": {
    "collapsed": false
   },
   "outputs": [
    {
     "data": {
      "text/plain": [
       "count       15\n",
       "unique       1\n",
       "top       male\n",
       "freq        15\n",
       "Name: Sex, dtype: object"
      ]
     },
     "execution_count": 139,
     "metadata": {},
     "output_type": "execute_result"
    }
   ],
   "source": [
    "# investigate categorical values\n",
    "free_riders[\"Sex\"].describe()"
   ]
  },
  {
   "cell_type": "markdown",
   "metadata": {},
   "source": [
    "#### Looking at the free-riders\n",
    "I know that _Jack_ cannot be legitimately counted to those paying 0$, even though he did in fact not pay for his Fare. But the person he won the tickets from did.\n",
    "\n",
    "However, I took this example to practice **making subsets of a dataframe**.\n",
    "\n",
    "What I got to see in this small subset of the 15 passengers that paid 0 for their Fare, is:\n",
    "\n",
    "- all were male\n",
    "- none had relatives on board\n",
    "- most lodged in a cabin\n",
    "- and nearly all of them died\n",
    "\n",
    "(The other values for Age and Pclass seem to be more diverse)\n",
    "\n",
    "Therefore I would say that skipping the Fare is not a good way to survive the catastrophe... :)\n",
    "\n",
    "_**Disclaimer**: I understand that this is not a useful conclusion, especially because the dataset is very very small_"
   ]
  },
  {
   "cell_type": "markdown",
   "metadata": {},
   "source": [
    "### Age in comparison\n",
    "Having my two datasets, split on the independent variable, I'll start to compute statistical values for them"
   ]
  },
  {
   "cell_type": "code",
   "execution_count": 140,
   "metadata": {
    "collapsed": false
   },
   "outputs": [
    {
     "name": "stdout",
     "output_type": "stream",
     "text": [
      "SURVIVORS \n",
      "count    290.000000\n",
      "mean      28.343690\n",
      "std       14.950952\n",
      "min        0.420000\n",
      "25%       19.000000\n",
      "50%       28.000000\n",
      "75%       36.000000\n",
      "max       80.000000\n",
      "Name: Age, dtype: float64\n",
      "\n",
      "\n",
      "NON-SURVIVORS \n",
      "count    424.000000\n",
      "mean      30.626179\n",
      "std       14.172110\n",
      "min        1.000000\n",
      "25%       21.000000\n",
      "50%       28.000000\n",
      "75%       39.000000\n",
      "max       74.000000\n",
      "Name: Age, dtype: float64\n"
     ]
    }
   ],
   "source": [
    "print \"SURVIVORS \\n\", titanic_survivors[\"Age\"].describe()\n",
    "print \"\\n\"\n",
    "print \"NON-SURVIVORS \\n\", titanic_non_survivors[\"Age\"].describe()"
   ]
  },
  {
   "cell_type": "markdown",
   "metadata": {},
   "source": [
    "On first sight, this doesn't look too interesting. There is a very minimal hint that Survivors might be altogether younger, but the difference is small. I will now look at the variables from aspect fo the split datasets."
   ]
  },
  {
   "cell_type": "code",
   "execution_count": 141,
   "metadata": {
    "collapsed": false
   },
   "outputs": [
    {
     "name": "stdout",
     "output_type": "stream",
     "text": [
      "count    290.000000\n",
      "mean      28.343690\n",
      "std       14.950952\n",
      "min        0.420000\n",
      "25%       19.000000\n",
      "50%       28.000000\n",
      "75%       36.000000\n",
      "max       80.000000\n",
      "Name: Age, dtype: float64\n",
      "median    28.0\n",
      "\n",
      "Number of rows used for the following graph: 290\n"
     ]
    },
    {
     "data": {
      "image/png": "[encoded data removed]",
      "text/plain": [
       "<matplotlib.figure.Figure at 0x10d5ff550>"
      ]
     },
     "metadata": {},
     "output_type": "display_data"
    }
   ],
   "source": [
    "stats_and_plot(titanic_survivors, \"Age\")"
   ]
  },
  {
   "cell_type": "code",
   "execution_count": 142,
   "metadata": {
    "collapsed": false
   },
   "outputs": [
    {
     "name": "stdout",
     "output_type": "stream",
     "text": [
      "count    424.000000\n",
      "mean      30.626179\n",
      "std       14.172110\n",
      "min        1.000000\n",
      "25%       21.000000\n",
      "50%       28.000000\n",
      "75%       39.000000\n",
      "max       74.000000\n",
      "Name: Age, dtype: float64\n",
      "median    28.0\n",
      "\n",
      "Number of rows used for the following graph: 424\n"
     ]
    },
    {
     "data": {
      "image/png": "[encoded data removed]",
      "text/plain": [
       "<matplotlib.figure.Figure at 0x10d893f10>"
      ]
     },
     "metadata": {},
     "output_type": "display_data"
    }
   ],
   "source": [
    "stats_and_plot(titanic_non_survivors, \"Age\")"
   ]
  },
  {
   "cell_type": "markdown",
   "metadata": {},
   "source": [
    "Here it becomes very obvious that way more passengers in mid-age died than those younger."
   ]
  },
  {
   "cell_type": "markdown",
   "metadata": {},
   "source": [
    "#### Age and its difficulties"
   ]
  },
  {
   "cell_type": "markdown",
   "metadata": {},
   "source": [
    "According to the \"Titanic\" movie websites, _Rose_ was feeling depressed about being constantly not taken seriously and treated like a child. Legally, with the age of 17, she might have been what was considered a _young person_ (the equivalent of today's _teenager_).\n",
    "Source: http://www.encyclopedia-titanica.org/forums/politics-laws/4620-age-majority.html\n",
    "\n",
    "The age limit for **children** might have been more correctly considered to be around 12-13, while the age of majority might have been still 21. However, as the thread discusses, young people were most likely treated as adults many years earlier (maybe the plights came, but not yet the rights?).\n",
    "\n",
    "Well, the actual age border seems to have been not too clear, and especially in the situation of a sinking ship, I can imagine that there were many unclarities and fast decisions for _children_ and _young people_ aged between 12 and 18.\n",
    "\n",
    "At first I will try to take the age as border, that more or less put an end to one being considered a **child**."
   ]
  },
  {
   "cell_type": "code",
   "execution_count": 143,
   "metadata": {
    "collapsed": false
   },
   "outputs": [
    {
     "name": "stdout",
     "output_type": "stream",
     "text": [
      "surviving children: 42\n",
      "non-surviving children: 29\n"
     ]
    }
   ],
   "source": [
    "child_age = 13\n",
    "\n",
    "# the idea for this way of returning in a function, I got from looking at another student's project: \n",
    "# https://github.com/profversaggi/Udacity_Nano_DataScience/blob/master/Project_2/Project%20%23%202%20Submission%20-%20Investigate%20a%20Dataset%20-%20Titanic.ipynb\n",
    "# Thanks \n",
    "def survival_up_to_age(age):\n",
    "    '''Calculates how many passengers up to and including a given age value survived and perished\n",
    "    \n",
    "    takes as input a integer\n",
    "    returns two integers, one for survived and one for perished\n",
    "    '''\n",
    "    survived = len(titanic_survivors[titanic_survivors[\"Age\"] <= age][\"Age\"])\n",
    "    died = len(titanic_non_survivors[titanic_non_survivors[\"Age\"] <= age][\"Age\"])\n",
    "    return survived, died\n",
    "    \n",
    "children_survived, children_died = survival_up_to_age(child_age)\n",
    "print \"surviving children:\", children_survived\n",
    "print \"non-surviving children:\", children_died"
   ]
  },
  {
   "cell_type": "markdown",
   "metadata": {},
   "source": [
    "I can see that more children survived than died.\n",
    "\n",
    "Now I want to take a look at the figures if I include also _young people_.\n",
    "\n",
    "Because legally (even though she might object), _Rose_ would have actually most likely not been counted among the adults."
   ]
  },
  {
   "cell_type": "code",
   "execution_count": 144,
   "metadata": {
    "collapsed": false
   },
   "outputs": [
    {
     "name": "stdout",
     "output_type": "stream",
     "text": [
      "surviving minors: 70\n",
      "non-surviving minors: 69\n"
     ]
    }
   ],
   "source": [
    "young_age = 18\n",
    "\n",
    "minors_survived, minors_died = survival_up_to_age(young_age)\n",
    "print \"surviving minors:\", minors_survived\n",
    "print \"non-surviving minors:\", minors_died"
   ]
  },
  {
   "cell_type": "markdown",
   "metadata": {},
   "source": [
    "Okay, on first sight these above results don't seem too spectacular. It seems that as a _young person_ on the Titanic (at least according to the sub-set of the data that I am analysing), you had a near-perfect 1 in 2 chance of surviving the disaster. _Life or death, at the flip of a coin._\n",
    "\n",
    "So, did _Rose_ just got lucky?\n",
    "\n",
    "One thing to make clear here is, that a 50% chance of survival can still be much higher than many other percentile rates of survival!\n",
    "\n",
    "So let's look at this for the **\"adults\"**. "
   ]
  },
  {
   "cell_type": "code",
   "execution_count": 145,
   "metadata": {
    "collapsed": false
   },
   "outputs": [],
   "source": [
    "def amount_of_passengers(data_table, column_header, operator, value):\n",
    "    ''' Computes the amount of passengers for a given setting.\n",
    "    \n",
    "    takes as input a pandas dataframe, the name of the column that is being queried,\n",
    "    an operator [\"smaller\", \"smaller_eguals\", \"bigger\", \"bigger_equals\"] and the value of the query parameter.\n",
    "    returns the number of passengers in the dataframe that fits the defined query\n",
    "    '''\n",
    "    if operator == \"smaller\":\n",
    "        num_passengers = len(data_table[data_table[column_header] < value][column_header])\n",
    "    elif operator == \"smaller_equals\":\n",
    "        num_passengers = len(data_table[data_table[column_header] <= value][column_header])\n",
    "    elif operator == \"bigger\":\n",
    "        num_passengers = len(data_table[data_table[column_header] > value][column_header])\n",
    "    elif operator == \"bigger_equals\":\n",
    "        num_passengers = len(data_table[data_table[column_header] >= value][column_header])\n",
    "    else:\n",
    "        print 'Error. Please enter a valid operator from the list:'\n",
    "        print '[\"smaller\", \"smaller_eguals\", \"bigger\", \"bigger_equals\"]'\n",
    "        return\n",
    "    return num_passengers"
   ]
  },
  {
   "cell_type": "code",
   "execution_count": 146,
   "metadata": {
    "collapsed": false
   },
   "outputs": [
    {
     "name": "stdout",
     "output_type": "stream",
     "text": [
      "adults survived: 208\n",
      "adults died:  326\n"
     ]
    }
   ],
   "source": [
    "age_of_majority = 21\n",
    "\n",
    "adults_survived = amount_of_passengers(titanic_survivors, \"Age\", \"bigger_equals\", age_of_majority)\n",
    "adults_died = amount_of_passengers(titanic_non_survivors, \"Age\", \"bigger_equals\", age_of_majority)\n",
    "\n",
    "print \"adults survived:\", adults_survived\n",
    "print \"adults died: \", adults_died"
   ]
  },
  {
   "cell_type": "markdown",
   "metadata": {},
   "source": [
    "Since I am investigating for the survival of _Rose_ and _Jack_, I'll also look at the values when drawing the line at 18, a currently popular age of majority, that might have also had some practical application then.\n",
    "\n",
    "Drawing this line there will leave where our fictional character _Rose_ on one side, and _Jack_, with the tender age of 20, would be on the other side. A tragic image for the young lovers, this is certain!"
   ]
  },
  {
   "cell_type": "code",
   "execution_count": 147,
   "metadata": {
    "collapsed": false
   },
   "outputs": [
    {
     "name": "stdout",
     "output_type": "stream",
     "text": [
      "nearly-adults survived: 220\n",
      "nearly-adults died:  355\n"
     ]
    }
   ],
   "source": [
    "grown_age = 18\n",
    "\n",
    "grown_survived = amount_of_passengers(titanic_survivors, \"Age\", \"bigger\", grown_age)\n",
    "grown_died = amount_of_passengers(titanic_non_survivors, \"Age\", \"bigger\", grown_age)\n",
    "\n",
    "print \"nearly-adults survived:\", grown_survived\n",
    "print \"nearly-adults died: \", grown_died"
   ]
  },
  {
   "cell_type": "markdown",
   "metadata": {},
   "source": [
    "I am aware that this decision is not necessarily grounded on well-supported data, however for the sake of my investigation (and simplicity) I will keep the \"Age\" border, where I distinguish between _young people_ and _adults_, at the age of 18.\n",
    "\n",
    "Next I will compare the ratios for the two groups."
   ]
  },
  {
   "cell_type": "code",
   "execution_count": 148,
   "metadata": {
    "collapsed": false
   },
   "outputs": [
    {
     "name": "stdout",
     "output_type": "stream",
     "text": [
      "Survival of young people    1.014493\n",
      "Survival of adults          0.638037\n",
      "Name: ratios of survival, dtype: float64\n"
     ]
    }
   ],
   "source": [
    "minors_ratio = minors_survived / float(minors_died)\n",
    "adult_ratio = adults_survived / float(adults_died)\n",
    "\n",
    "ratios = pd.Series([minors_ratio, adult_ratio], [\"Survival of young people\", \"Survival of adults\"],\n",
    "                   name=\"ratios of survival\")\n",
    "print ratios"
   ]
  },
  {
   "cell_type": "code",
   "execution_count": 149,
   "metadata": {
    "collapsed": false
   },
   "outputs": [
    {
     "name": "stdout",
     "output_type": "stream",
     "text": [
      "STATISTICAL VALUES FOR Age\n",
      "count    714.000000\n",
      "mean      29.699118\n",
      "std       14.526497\n",
      "min        0.420000\n",
      "25%       20.125000\n",
      "50%       28.000000\n",
      "75%       38.000000\n",
      "max       80.000000\n",
      "Name: Age, dtype: float64 \n",
      "\n",
      "Survival of those BELOW (and including) entered value    1.014493\n",
      "Survival of those ABOVE entered value                    0.619718\n",
      "Name: Ratios for Age, split at 18, dtype: float64\n"
     ]
    }
   ],
   "source": [
    "def survival_by_value(column_header, value):\n",
    "    ''' Calculates the ratios of survivors and non-survivors for a given column, split by a given value.\n",
    "    \n",
    "    takes as input a column header and a corresponding value for a query.\n",
    "    returns a pandas Series object holding the ratios of survivors compared to non-survivors\n",
    "    for the rows below and including the defined value in the given column\n",
    "    and the rows above the defined value in the given column\n",
    "    '''\n",
    "    survived_below = amount_of_passengers(titanic_survivors, column_header, \"smaller_equals\", value)\n",
    "    died_below = amount_of_passengers(titanic_non_survivors, column_header, \"smaller_equals\", value)\n",
    "    survived_above = amount_of_passengers(titanic_survivors, column_header, \"bigger\", value)\n",
    "    died_above = amount_of_passengers(titanic_non_survivors, column_header, \"bigger\", value)\n",
    "    below_ratio = survived_below / float(died_below)\n",
    "    above_ratio = survived_above / float(died_above)\n",
    "    ratios = pd.Series([below_ratio, above_ratio], [\"Survival of those BELOW (and including) entered value\", \n",
    "                                                    \"Survival of those ABOVE entered value\"], \n",
    "                       name=\"Ratios for %s, split at %s\" %(column_header, value))\n",
    "    return ratios\n",
    "\n",
    "print \"STATISTICAL VALUES FOR Age\"\n",
    "print titanic_data[\"Age\"].describe(), \"\\n\"\n",
    "print survival_by_value(\"Age\", grown_age)"
   ]
  },
  {
   "cell_type": "markdown",
   "metadata": {},
   "source": [
    "So the chances of survival were indeed much higher for children than for adults! \n",
    "\n",
    "_Rose_ might not have liked to be treated as a child while all was going well on the ship. However, when the disaster struck, she would be better off when holding back her teenage upwellings of self-responsibility."
   ]
  },
  {
   "cell_type": "markdown",
   "metadata": {},
   "source": [
    "---\n",
    "\n",
    "I took a peek into this data already further up, but I chose to dig a little deeper, trying to explore and account for some inaccuracies and definition problems regarding who would be considered a _child_ in \"_Women and children first_\".\n",
    "\n",
    "Let's see how the rate of survival was spread among the Age of the passengers.\n",
    "\n",
    "I'll look at it visualized with a Histogram. First I look at the min and max values, then at the range:"
   ]
  },
  {
   "cell_type": "code",
   "execution_count": 150,
   "metadata": {
    "collapsed": false
   },
   "outputs": [
    {
     "name": "stdout",
     "output_type": "stream",
     "text": [
      "Range of 'Age': 79.58\n"
     ]
    }
   ],
   "source": [
    "min_age = titanic_data[\"Age\"].min()\n",
    "max_age = titanic_data[\"Age\"].max()\n",
    "\n",
    "age_range = max_age - min_age\n",
    "print \"Range of 'Age':\", age_range"
   ]
  },
  {
   "cell_type": "markdown",
   "metadata": {},
   "source": [
    "According to this range I will choose a bin size of 10, resulting in 8 bins."
   ]
  },
  {
   "cell_type": "code",
   "execution_count": 151,
   "metadata": {
    "collapsed": false
   },
   "outputs": [
    {
     "name": "stdout",
     "output_type": "stream",
     "text": [
      "Chosen amount of bins: 8.0\n"
     ]
    }
   ],
   "source": [
    "bins = round(age_range/10)\n",
    "print \"Chosen amount of bins:\", bins"
   ]
  },
  {
   "cell_type": "code",
   "execution_count": 152,
   "metadata": {
    "collapsed": false
   },
   "outputs": [
    {
     "name": "stdout",
     "output_type": "stream",
     "text": [
      "                  Survived        Age       Fare     Cabin  Relatives\n",
      "Age                                                                  \n",
      "(0.42, 11.789]           1   3.756579  30.236842  0.236842   0.973684\n",
      "(11.789, 23.157]         1  18.640625  48.296875  0.359375   0.531250\n",
      "(23.157, 34.526]         1  28.618280  36.602151  0.354839   0.397849\n",
      "(34.526, 45.894]         1  38.875000  88.000000  0.571429   0.500000\n",
      "(45.894, 57.263]         1  50.750000  59.142857  0.714286   0.678571\n",
      "(57.263, 68.631]         1  60.444444  72.777778  0.777778   0.444444\n",
      "(68.631, 80]             1  80.000000  30.000000  1.000000   0.000000\n"
     ]
    }
   ],
   "source": [
    "# from here: http://stackoverflow.com/questions/16947336/binning-a-dataframe-in-pandas-in-python\n",
    "my_bins = np.linspace(titanic_survivors.Age.min(), titanic_data.Age.max(), bins)\n",
    "groups = titanic_survivors.groupby(pd.cut(titanic_survivors.Age, my_bins))\n",
    "print groups.mean()"
   ]
  },
  {
   "cell_type": "markdown",
   "metadata": {},
   "source": [
    "Here I'll look at this with a histogram representing the continuous value of \"Age\" on one axis, and the amount of passengers who survived on the other axis."
   ]
  },
  {
   "cell_type": "markdown",
   "metadata": {},
   "source": [
    "As also further above when defining the `stats_and_plot()` function, I decided not to consider the rows that do not hold values in the Age column for constructing the graphs.\n",
    "\n",
    "With this I choose to only look at a subset of the data, consisting of the 714 rows that have a value for Age."
   ]
  },
  {
   "cell_type": "code",
   "execution_count": 153,
   "metadata": {
    "collapsed": false
   },
   "outputs": [
    {
     "data": {
      "image/png": "[encoded data removed]",
      "text/plain": [
       "<matplotlib.figure.Figure at 0x10dc10a50>"
      ]
     },
     "metadata": {},
     "output_type": "display_data"
    }
   ],
   "source": [
    "%matplotlib inline\n",
    "import numpy as np\n",
    "import matplotlib.pyplot as plt\n",
    "\n",
    "surv_age_no_nan = titanic_survivors[\"Age\"].dropna()\n",
    "surv_array = surv_age_no_nan.as_matrix()\n",
    "\n",
    "plt.hist(surv_array, bins)\n",
    "plt.xlabel(\"Age in years\")\n",
    "plt.ylabel(\"amount of passengers who survived\")\n",
    "plt.title(\"survivors by age\")\n",
    "plt.axis([min_age, max_age, 0, 140])\n",
    "plt.grid(True)"
   ]
  },
  {
   "cell_type": "markdown",
   "metadata": {},
   "source": [
    "Looking at the same graph for those who didn't survive:"
   ]
  },
  {
   "cell_type": "code",
   "execution_count": 154,
   "metadata": {
    "collapsed": false
   },
   "outputs": [
    {
     "data": {
      "image/png": "[encoded data removed]",
      "text/plain": [
       "<matplotlib.figure.Figure at 0x10dc10490>"
      ]
     },
     "metadata": {},
     "output_type": "display_data"
    }
   ],
   "source": [
    "no_surv_age_no_nan = titanic_non_survivors[\"Age\"].dropna()\n",
    "no_surv_array = no_surv_age_no_nan.as_matrix()\n",
    "\n",
    "plt.hist(no_surv_array, bins)\n",
    "plt.xlabel(\"Age in years\")\n",
    "plt.ylabel(\"amount of passengers who died\")\n",
    "plt.title(\"non-survivors by age\")\n",
    "plt.axis([min_age, max_age, 0, 140])\n",
    "plt.grid(True)"
   ]
  },
  {
   "cell_type": "markdown",
   "metadata": {},
   "source": [
    "One striking difference when looking at these two graphs, is the first bin (0-10 years of age). It is right away clear that there are way more passengers that fit into this bin in the list of the survivors, than there are in the list of the non-survivors.\n",
    "\n",
    "The rest of the histogram seems to take a similar shape, only that the non-survivors hold higher absoulte amounts, because more people died than survived the disaster altogether.\n",
    "\n",
    "However, the first bin defies this general trend and actually holds a lower absolute amount of passengers for the non-survivors than for the survivors, indicating also here, that there was a selection towards allowing children to enter the life boats at a higher rate than other passengers.\n",
    "\n",
    "Regarding my analysis of the movie, the bin sizes chosen are not optimum, since I have further up decided the break between \"child\" and \"adult\" at up to and including 18. This also separates _Rose_, who is 17, from _Jack_, who is 20 at the time of the sinking of the ship.\n",
    "\n",
    "Therefore it might be worth to look at the histogram with a changed bin size."
   ]
  },
  {
   "cell_type": "markdown",
   "metadata": {},
   "source": [
    "So I will look for a better fitting bin size, that emphasizes the split between \"child\" and \"adult\" (as defined above).\n",
    "\n",
    "I want to take into account, that teenagers might have still been treated differently than very small children. So I would want to have at least two bins for those in the category \"child\""
   ]
  },
  {
   "cell_type": "code",
   "execution_count": 155,
   "metadata": {
    "collapsed": false
   },
   "outputs": [],
   "source": [
    "child_age = 18\n",
    "\n",
    "bins = age_range / (child_age / 2)\n",
    "bins = bins.round()"
   ]
  },
  {
   "cell_type": "markdown",
   "metadata": {},
   "source": [
    "Here come the histograms again with the new bin size of 9, resulting in 9 bins."
   ]
  },
  {
   "cell_type": "code",
   "execution_count": 156,
   "metadata": {
    "collapsed": false
   },
   "outputs": [
    {
     "data": {
      "image/png": "[encoded data removed]",
      "text/plain": [
       "<matplotlib.figure.Figure at 0x103ef12d0>"
      ]
     },
     "metadata": {},
     "output_type": "display_data"
    }
   ],
   "source": [
    "surv_age_no_nan = titanic_survivors[\"Age\"].dropna()\n",
    "surv_array = surv_age_no_nan.as_matrix()\n",
    "\n",
    "plt.hist(surv_array, bins)\n",
    "plt.xlabel(\"Age in years\")\n",
    "plt.ylabel(\"amount of passengers who survived\")\n",
    "plt.title(\"survivors by age\")\n",
    "plt.axis([min_age, max_age, 0, 140])\n",
    "plt.grid(True)"
   ]
  },
  {
   "cell_type": "code",
   "execution_count": 157,
   "metadata": {
    "collapsed": false
   },
   "outputs": [
    {
     "data": {
      "image/png": "[encoded data removed]",
      "text/plain": [
       "<matplotlib.figure.Figure at 0x10d0afdd0>"
      ]
     },
     "metadata": {},
     "output_type": "display_data"
    }
   ],
   "source": [
    "no_surv_age_no_nan = titanic_non_survivors[\"Age\"].dropna()\n",
    "no_surv_array = no_surv_age_no_nan.as_matrix()\n",
    "\n",
    "plt.hist(no_surv_array, bins)\n",
    "plt.xlabel(\"Age in years\")\n",
    "plt.ylabel(\"amount of passengers who died\")\n",
    "plt.title(\"non-survivors by age\")\n",
    "plt.axis([min_age, max_age, 0, 140])\n",
    "plt.grid(True)"
   ]
  },
  {
   "cell_type": "markdown",
   "metadata": {},
   "source": [
    "We can see that there is a change in the general trend, that offers a new perspective that might have been obfuscated with the previous bin size setting:\n",
    "\n",
    "By far the highest amount of casualties falls within the 3rd bin (Age: 19-24). In the previous two graphs, the number of non-survivors was much higher for the 2nd bin, because it also included those aged 19 and 20 (the range set was 10-20). These people were, however, practically already considered \"adults\" and therefore probably did not come into the benefits of _Women and children first!_.\n",
    "\n",
    "I believe that the second pair of graphs represents the actual situation better, and that for this analysis the bin size of 9 is more appropriate than the bin size of 10."
   ]
  },
  {
   "cell_type": "markdown",
   "metadata": {},
   "source": [
    "There is still a marked difference in the amounts of survivors for both first bins as compared to the first two bins of the non-survivors.\n",
    "While in all other bins the absolute number of passengers is higher for the non-survivors, the numbers are inverse for these bins holding the \"children\" (as defined above).\n",
    "\n",
    "_Rose_ should consider herself lucky to be counted among the children, and maybe she would change her mind about the advantages of being grown up, when seeing these numbers. :)\n",
    "But then, this is not how the heads of teenagers function!"
   ]
  },
  {
   "cell_type": "markdown",
   "metadata": {},
   "source": [
    "### Fare - do the spendatious live longer?\n"
   ]
  },
  {
   "cell_type": "markdown",
   "metadata": {},
   "source": [
    "Let's think about the money spent for the ticket. I've already done some cleaning and analysis above, and mentioned that there was most likely a marked difference between the actual worth of _Jack_'s and _Rose_'s tickets.\n",
    "\n",
    "But did paying more actually help you to survive the sinking of the ship? Let's take a look. (I'll repeat my single-variable analysis here)."
   ]
  },
  {
   "cell_type": "code",
   "execution_count": 158,
   "metadata": {
    "collapsed": false
   },
   "outputs": [
    {
     "name": "stdout",
     "output_type": "stream",
     "text": [
      "count    891.000000\n",
      "mean      31.785634\n",
      "std       49.703730\n",
      "min        0.000000\n",
      "25%        7.000000\n",
      "50%       14.000000\n",
      "75%       31.000000\n",
      "max      512.000000\n",
      "Name: Fare, dtype: float64\n",
      "median    14.0\n",
      "\n",
      "Number of rows used for the following graph: 891\n"
     ]
    },
    {
     "data": {
      "image/png": "[encoded data removed]",
      "text/plain": [
       "<matplotlib.figure.Figure at 0x10d56e9d0>"
      ]
     },
     "metadata": {},
     "output_type": "display_data"
    }
   ],
   "source": [
    "stats_and_plot(titanic_data, \"Fare\")"
   ]
  },
  {
   "cell_type": "markdown",
   "metadata": {},
   "source": [
    "The maximum seems to be quite an outlier, so I did not trust the average as a useful value.\n",
    "I'll choose up to and including the median as a low fare, and what is above the median as a high fare."
   ]
  },
  {
   "cell_type": "code",
   "execution_count": 159,
   "metadata": {
    "collapsed": false
   },
   "outputs": [],
   "source": [
    "import numpy as np\n",
    "\n",
    "median_fare = np.median(titanic_data[\"Fare\"])\n",
    "survivors_rich = amount_of_passengers(titanic_survivors, \"Fare\", \"bigger\", median_fare)\n",
    "survivors_poor = amount_of_passengers(titanic_non_survivors, \"Fare\", \"bigger\", median_fare)"
   ]
  },
  {
   "cell_type": "code",
   "execution_count": 160,
   "metadata": {
    "collapsed": false
   },
   "outputs": [
    {
     "data": {
      "text/plain": [
       "Survival of those BELOW (and including) entered value    0.332362\n",
       "Survival of those ABOVE entered value                    1.106796\n",
       "Name: Ratios for Fare, split at 14.0, dtype: float64"
      ]
     },
     "execution_count": 160,
     "metadata": {},
     "output_type": "execute_result"
    }
   ],
   "source": [
    "survival_by_value(\"Fare\", median_fare)"
   ]
  },
  {
   "cell_type": "markdown",
   "metadata": {},
   "source": [
    "This looks promising! Seems one can indeed buy oneself the way out of disaster..."
   ]
  },
  {
   "cell_type": "markdown",
   "metadata": {},
   "source": [
    "### Three (Pseudo-)Boolean values\n",
    "Cabin, Relatives, Sex are all categorical values (and can even be considered boolean values).\n",
    "Here I'll write functions to handle these."
   ]
  },
  {
   "cell_type": "code",
   "execution_count": 161,
   "metadata": {
    "collapsed": false
   },
   "outputs": [
    {
     "name": "stdout",
     "output_type": "stream",
     "text": [
      "RATIOS OF SURVIVAL ACCORDING TO Sex (female/male):\n",
      "Survival of female (entered value)        2.876543\n",
      "Survival of second value (not entered)    0.232906\n",
      "Name: ratios of survival according to Sex, dtype: float64 \n",
      "\n",
      "RATIOS OF SURVIVAL ACCORDING TO Cabin (True/False):\n",
      "Survival of True (entered value)          2.000000\n",
      "Survival of second value (not entered)    0.428274\n",
      "Name: ratios of survival according to Cabin, dtype: float64 \n",
      "\n",
      "RATIOS OF SURVIVAL ACCORDING TO Relatives (True/False):\n",
      "Survival of True (entered value)          1.022857\n",
      "Survival of second value (not entered)    0.435829\n",
      "Name: ratios of survival according to Relatives, dtype: float64\n"
     ]
    }
   ],
   "source": [
    "def amount_of_passengers_bool(column_header, one_value):\n",
    "    '''Calculates the amounts of passengers for both boolean values in the survivor and non-survivor dataset.\n",
    "    \n",
    "    takes as input the header of a column and one of the two boolean values\n",
    "    (this is, so that the function also accounts for pseudo-boolean constructs)\n",
    "    returns a list of amounts of passengers that includes the following:\n",
    "    [survivors_fitting_the_entered_query_value, survivors_NOT_fitting_the_entered_query_value,\n",
    "    NON_survivors_fitting_the_entered_query_value, NON_survivors_NOT_fitting_the_entered_query_value]\n",
    "    '''\n",
    "    survivors_1 = len(titanic_survivors[titanic_survivors[column_header] == one_value])\n",
    "    survivors_2 = len(titanic_survivors[titanic_survivors[column_header] != one_value])\n",
    "    non_survivors_1 = len(titanic_non_survivors[titanic_non_survivors[column_header] == one_value])\n",
    "    non_survivors_2 = len(titanic_non_survivors[titanic_non_survivors[column_header] != one_value])\n",
    "    amount_list = [survivors_1, survivors_2, non_survivors_1, non_survivors_2]\n",
    "    return amount_list\n",
    "            \n",
    "def survival_by_bool_value(column_header, one_value):\n",
    "    ''' Calculates the ratios of survival for a column with boolean values.\n",
    "    \n",
    "    takes as input the header of a column and one of the two boolean values\n",
    "    (this is, so that the function also accounts for pseudo-boolean constructs)\n",
    "    returns a pandas Series object containing the two ratios\n",
    "    '''\n",
    "    amount_list = amount_of_passengers_bool(column_header, one_value)\n",
    "    survived_provided_value = amount_list[0]\n",
    "    died_provided_value = amount_list[2]\n",
    "    survived_other_value = amount_list[1]\n",
    "    died_other_value = amount_list[3]\n",
    "    provided_value_ratio = survived_provided_value / float(died_provided_value)\n",
    "    other_value_ratio = survived_other_value / float(died_other_value)\n",
    "    ratios = pd.Series([provided_value_ratio, other_value_ratio], [\"Survival of %s (entered value)\" %(one_value), \n",
    "                                                                   \"Survival of second value (not entered)\"],\n",
    "                      name=\"ratios of survival according to %s\" %(column_header))\n",
    "    return ratios\n",
    "\n",
    "print \"RATIOS OF SURVIVAL ACCORDING TO Sex (female/male):\"\n",
    "print survival_by_bool_value(\"Sex\", \"female\"), \"\\n\"\n",
    "print \"RATIOS OF SURVIVAL ACCORDING TO Cabin (True/False):\"\n",
    "print survival_by_bool_value(\"Cabin\", True), \"\\n\"\n",
    "print \"RATIOS OF SURVIVAL ACCORDING TO Relatives (True/False):\"\n",
    "print survival_by_bool_value(\"Relatives\", True)"
   ]
  },
  {
   "cell_type": "markdown",
   "metadata": {},
   "source": [
    "The results indicate that it was more likely for a passenger to survive if:\n",
    "\n",
    "- the passenger was **female**\n",
    "- did have a **cabin**\n",
    "- and **had relatives** on board\n",
    "\n",
    "_Rose_ has a bright outlook, also according to these results, while _Jack_'s future seems to gloomily foreshadow the events of the end of the movie.\n",
    "\n",
    "Earlier I discovered, that passengers with Cabin are likely to be of Pclass 1, drawing a connection between socio-economic status and Cabin. That the wealthier were treated with precedence seems to also holds true from this aspect, after comparing how lodging in a Cabin relates to survival.\n",
    "\n",
    "I will now take a more direct look at this prediction."
   ]
  },
  {
   "cell_type": "markdown",
   "metadata": {},
   "source": [
    "### Social Class and Survival\n",
    "The final value to investigate is Pclass, a collection of ordinal values [1, 2, 3], that are meant to be an indicator for socio-economic status.\n",
    "\n",
    "Since it's a bit a different type of data, I first thought I'll have to make a new function for this cause.\n",
    "BUT, since I'm only trying to get the difference between Pclass 1 and (Pclass 2 AND Pclass 3), it's again a pseudo-boolean, so I can use my function that I just wrote above (its \"!=\" statement will catch both Pclass 2 and Pclass 3 entries)."
   ]
  },
  {
   "cell_type": "code",
   "execution_count": 162,
   "metadata": {
    "collapsed": false
   },
   "outputs": [
    {
     "data": {
      "text/plain": [
       "Survival of 1 (entered value)             1.700000\n",
       "Survival of second value (not entered)    0.439232\n",
       "Name: ratios of survival according to Pclass, dtype: float64"
      ]
     },
     "execution_count": 162,
     "metadata": {},
     "output_type": "execute_result"
    }
   ],
   "source": [
    "survival_by_bool_value(\"Pclass\", 1)"
   ]
  },
  {
   "cell_type": "markdown",
   "metadata": {},
   "source": [
    "_a bit lazy, I agree. :)_\n",
    "    \n",
    "But we can see that being part of Pclass 1 was a great advantage for the passengers and significantly increased their rate of survival.\n",
    "\n",
    "This is something that I expected, knowing society a little bit, and what was also foreshadowed through the results for \"Cabin\". Usually people of higher status are also treated more favourably. They are also likely to have had more money, and might have just bought their place on a lifeboat.\n",
    "\n",
    "Again, this result speaks in favour of _Rose_ surviving and _Jack_ perishing in the Titanic disaster, supporting the historical representativeness of the movie."
   ]
  },
  {
   "cell_type": "markdown",
   "metadata": {},
   "source": [
    "## 5) Discussion\n",
    "\n",
    "So here I will try to write a sum up of my analysis.\n",
    "The following values are those that are likely to be useful variables to predict survival of the passengers:\n",
    "\n",
    "- Pclass = 1\n",
    "- Sex = female\n",
    "- Fare > 14\n",
    "- Age <= 18\n",
    "- Cabin = True\n",
    "- Relatives = 1\n",
    "\n",
    "meaning that a passenger that fulfills some of these criteria is more likely to have survived.\n",
    "The more, the higher is the chance of survival.\n",
    "\n",
    "We can already see here, that the character _Rose_ scores well on all criteria, while the inverse is true for the character _Jack_."
   ]
  },
  {
   "cell_type": "markdown",
   "metadata": {},
   "source": [
    "---\n",
    "\n",
    "Some attributes, however, are more important than others. Let's talk more about this.\n",
    "\n",
    "For this I'll create a dataframe holding all the ratios of these (hopefully) predictive values as compared to their pseudo-boolean opposites."
   ]
  },
  {
   "cell_type": "code",
   "execution_count": 163,
   "metadata": {
    "collapsed": false
   },
   "outputs": [
    {
     "data": {
      "text/html": [
       "<div style=\"max-height:1000px;max-width:1500px;overflow:auto;\">\n",
       "<table border=\"1\" class=\"dataframe\">\n",
       "  <thead>\n",
       "    <tr style=\"text-align: right;\">\n",
       "      <th></th>\n",
       "      <th>Cabin</th>\n",
       "      <th>Sex</th>\n",
       "      <th>Relatives</th>\n",
       "      <th>Pclass</th>\n",
       "      <th>Age</th>\n",
       "      <th>Fare</th>\n",
       "    </tr>\n",
       "  </thead>\n",
       "  <tbody>\n",
       "    <tr>\n",
       "      <th>var_indicates_survival</th>\n",
       "      <td> 2.000000</td>\n",
       "      <td> 2.876543</td>\n",
       "      <td> 1.022857</td>\n",
       "      <td> 1.700000</td>\n",
       "      <td> 1.014493</td>\n",
       "      <td> 1.106796</td>\n",
       "    </tr>\n",
       "    <tr>\n",
       "      <th>var_means_probably_not</th>\n",
       "      <td> 0.428274</td>\n",
       "      <td> 0.232906</td>\n",
       "      <td> 0.435829</td>\n",
       "      <td> 0.439232</td>\n",
       "      <td> 0.619718</td>\n",
       "      <td> 0.332362</td>\n",
       "    </tr>\n",
       "  </tbody>\n",
       "</table>\n",
       "</div>"
      ],
      "text/plain": [
       "                           Cabin       Sex  Relatives    Pclass       Age  \\\n",
       "var_indicates_survival  2.000000  2.876543   1.022857  1.700000  1.014493   \n",
       "var_means_probably_not  0.428274  0.232906   0.435829  0.439232  0.619718   \n",
       "\n",
       "                            Fare  \n",
       "var_indicates_survival  1.106796  \n",
       "var_means_probably_not  0.332362  "
      ]
     },
     "execution_count": 163,
     "metadata": {},
     "output_type": "execute_result"
    }
   ],
   "source": [
    "# first I'll need a dataframe\n",
    "ratios_df = pd.DataFrame(index=[\"var_indicates_survival\", \"var_means_probably_not\"])\n",
    "\n",
    "# then I need a function\n",
    "def add_ratio_to_df(column_name, survival_predictor_value):\n",
    "    '''Appends the ratios for a predictor value regarding survival to a dataframe.\n",
    "    \n",
    "    calculates the ratios for survivors vs. non-survivors for one criteria (column_name).\n",
    "    then it creates a new column in ratios_df and puts the two calculated ratios there,\n",
    "    assigning the higher one to the 0th row, the lower one to the 1st row.\n",
    "    '''\n",
    "    if column_name == \"Sex\" or column_name == \"Cabin\" or column_name == \"Relatives\" or column_name == \"Pclass\":\n",
    "        ratios = survival_by_bool_value(column_name, survival_predictor_value)\n",
    "        ratios_df.loc[:, column_name] = pd.Series([ratios[np.argmax(ratios)], ratios[np.argmin(ratios)]], index = ratios_df.index)\n",
    "    elif column_name == \"Fare\" or column_name == \"Age\":\n",
    "        ratios = survival_by_value(column_name, survival_predictor_value)\n",
    "        ratios_df.loc[:, column_name] = pd.Series([ratios[np.argmax(ratios)], ratios[np.argmin(ratios)]], index = ratios_df.index)\n",
    "        \n",
    "# and now I'll call them all!\n",
    "add_ratio_to_df(\"Cabin\", False)\n",
    "add_ratio_to_df(\"Sex\", \"female\")\n",
    "add_ratio_to_df(\"Relatives\", 1)\n",
    "add_ratio_to_df(\"Pclass\", 1)\n",
    "add_ratio_to_df(\"Age\", 18)\n",
    "add_ratio_to_df(\"Fare\", 14)\n",
    "\n",
    "# and this is how it looks like\n",
    "ratios_df"
   ]
  },
  {
   "cell_type": "code",
   "execution_count": 164,
   "metadata": {
    "collapsed": false
   },
   "outputs": [],
   "source": [
    "# calculating the difference between survival and death\n",
    "difference = ratios_df.diff().iloc[1]"
   ]
  },
  {
   "cell_type": "code",
   "execution_count": 165,
   "metadata": {
    "collapsed": false
   },
   "outputs": [
    {
     "data": {
      "text/plain": [
       "Sex         -2.643637\n",
       "Cabin       -1.571726\n",
       "Pclass      -1.260768\n",
       "Fare        -0.774435\n",
       "Relatives   -0.587028\n",
       "Age         -0.394774\n",
       "Name: predictor variables by significance, dtype: float64"
      ]
     },
     "execution_count": 165,
     "metadata": {},
     "output_type": "execute_result"
    }
   ],
   "source": [
    "# ordering the Series object to display the one with the highest difference on top, then descending.\n",
    "ordered_differences = difference.order()\n",
    "# changing the name of the Series object\n",
    "ordered_differences = pd.Series(ordered_differences.values, ordered_differences.index, \n",
    "                                name=\"predictor variables by significance\")\n",
    "ordered_differences"
   ]
  },
  {
   "cell_type": "markdown",
   "metadata": {},
   "source": [
    "---\n",
    "\n",
    "Yay! So here we go. Now I finally know what attributes to a passenger make it possible to predict with high(er) accuracy whether they managed to survive the Titanic ship-sinking-destruction-disaster, or whether they perished into fishfood.\n",
    "\n",
    "The pandas Series object `ordered_differences` above is a list of the useful variables for this, ordered according to importance.\n",
    "\n",
    "This means for example, that if taking into account only a single variable, knowing the Sex of a passenger will be the safest way to guess whether they survived or not.\n",
    "Then follows whether they had a cabin or not.\n",
    "etc."
   ]
  },
  {
   "cell_type": "markdown",
   "metadata": {},
   "source": [
    "### Answering my question"
   ]
  },
  {
   "cell_type": "markdown",
   "metadata": {},
   "source": [
    "So, according to my analysis, the movie could indeed be considered historically representative:\n",
    "\n",
    "- **_Rose_**, the relatively rich Pclass 1 female Age=17 lodging in a Cabin with Relatives on board, **survived**\n",
    "- while **_Jack_**, the Pclass 3 male, who (most likely) had a cheap ticket, no Cabin, and was older than 18, **perished**\n",
    "\n",
    "---"
   ]
  },
  {
   "cell_type": "markdown",
   "metadata": {
    "collapsed": true
   },
   "source": [
    "One thing that became clear to me while looking at the titanic dataset, and reading about James Cameron's work when creating the \"Titanic\" movie, was that there was a lot of effort taken to incorporate the actual historical events into the film.\n",
    "\n",
    "Reading about Cameron's excitement about sunken ships and the dives they did to look at and film the actual wreck of the Titanic, was impressive to me, and allowed me to get a new impression of the movie that I had watched as a teenager. The scientific approach that seems to have gone into gathering information about the historical events on the Titanic made me pull my imaginary hat in front of the director, and revisit my criticism of the final death of _Jack_."
   ]
  },
  {
   "cell_type": "markdown",
   "metadata": {},
   "source": [
    "In my research I also found an Episode of Mythbusters, that claim to have found a way in which _Jack_ could have made his way onto the floating board and survived: http://www.discovery.com/tv-shows/mythbusters/videos/rocket-surfer-aftershow/\n",
    "But I must say I find the reasoning not very impressive, considering that it involved a lot of dipping into the icy water and an idea that one does not necessarily come up with when faced with such a life-threatening situation.\n",
    "There is also a smugness of delivering this medium-amazing discovery to the director, that I don't think is appropriate.\n",
    "\n",
    "What I instead take from this video is, that during their first tries, the raft seemed to not hold two people, and without the life jacket trick, it wouldn't have.\n",
    "Therefore I again salute to James Cameron's sense of accuracy, and conclude that the audience's infuriation with the question why _Jack_ did not simply climb onto the raft himself too, comes from a general ignorance of not knowing how unstable such a floating piece of door actually is (and probably also the wish for the love story to have a happy ending :).\n",
    "\n",
    "Add some ice to this, a dramatic sinking with thousands dying and love troubles on your mind, plus considering the results of my analysis that gave _Jack_ a bad set of cards regarding his survival right from the start, and finally also the questions of etiquette that took the lives of many men aboard at that time (there would have been a deadly public shame associated with having survived the disaster while women and children that _could have survived_ did not), and I am personally easily convinced that it is a realistic outcome that _Jack_ he would have frozen to his honorable death.\n",
    "\n",
    "I therefore mark my teenage rambling and smugness about his \"unnecessary\" death into the area of ignorance, and bid my respect towards James Cameron's impressive research and attempts to create a realistic fictional story, set on the background of a historical disaster."
   ]
  }
 ],
 "metadata": {
  "kernelspec": {
   "display_name": "Python 2",
   "language": "python",
   "name": "python2"
  },
  "language_info": {
   "codemirror_mode": {
    "name": "ipython",
    "version": 2
   },
   "file_extension": ".py",
   "mimetype": "text/x-python",
   "name": "python",
   "nbconvert_exporter": "python",
   "pygments_lexer": "ipython2",
   "version": "2.7.10"
  }
 },
 "nbformat": 4,
 "nbformat_minor": 0
}
